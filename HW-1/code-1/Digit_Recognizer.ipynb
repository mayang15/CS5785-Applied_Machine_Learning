{
 "cells": [
  {
   "cell_type": "code",
   "execution_count": 1,
   "metadata": {},
   "outputs": [],
   "source": [
    "import numpy as np\n",
    "import struct\n",
    "import matplotlib.pyplot as plt\n",
    "import seaborn as sns\n",
    "import sys\n",
    "from sklearn.metrics import roc_curve, auc\n",
    "from sklearn.metrics.pairwise import pairwise_distances\n",
    "from collections import Counter\n",
    "import random\n",
    "import csv"
   ]
  },
  {
   "cell_type": "code",
   "execution_count": 2,
   "metadata": {},
   "outputs": [
    {
     "name": "stdout",
     "output_type": "stream",
     "text": [
      "(60000, 784)\n",
      "(10000, 784)\n"
     ]
    }
   ],
   "source": [
    "## load training and testing imageset\n",
    "train_image_path = \"data/train-images.idx3-ubyte\"\n",
    "test_image_path = \"data/t10k-images.idx3-ubyte\"\n",
    "\n",
    "train_buffer = open(train_image_path, 'rb').read()\n",
    "test_buffer = open(test_image_path, 'rb').read()\n",
    "\n",
    "# load head=(magic number, number of images, rows, columns)\n",
    "train_head = struct.unpack_from('>IIII', train_buffer, 0)\n",
    "test_head = struct.unpack_from('>IIII', test_buffer, 0)\n",
    "\n",
    "offset = struct.calcsize('>IIII')\n",
    "train_fmt = '>' + str(train_head[1] * train_head[2] * train_head[3]) + 'B'\n",
    "test_fmt = '>' + str(test_head[1] * test_head[2] * test_head[3]) + 'B'\n",
    "\n",
    "# load images\n",
    "train_imgs = struct.unpack_from(train_fmt, train_buffer, offset)\n",
    "test_imgs = struct.unpack_from(test_fmt, test_buffer, offset)\n",
    "\n",
    "train_imgs = np.reshape(train_imgs, [train_head[1], train_head[2] * train_head[3]])\n",
    "test_imgs = np.reshape(test_imgs, [test_head[1], test_head[2] * test_head[3]])\n",
    "print(np.shape(train_imgs))\n",
    "print(np.shape(test_imgs))\n",
    "# print(train_head)\n",
    "# print(type(train_imgs))\n",
    "# print(train_imgs)\n",
    "# print(np.reshape(train_imgs[1,:], [28,28]))"
   ]
  },
  {
   "cell_type": "code",
   "execution_count": 3,
   "metadata": {},
   "outputs": [],
   "source": [
    "## load training and testing labelset\n",
    "train_label_path = \"data/train-labels.idx1-ubyte\"\n",
    "test_label_path = \"data/t10k-labels.idx1-ubyte\"\n",
    "\n",
    "train_buffer = open(train_label_path, 'rb').read()\n",
    "test_buffer = open(test_label_path, 'rb').read()\n",
    "\n",
    "# load head=(magic number, number of items)\n",
    "train_head = struct.unpack_from('>II', train_buffer, 0)\n",
    "test_head = struct.unpack_from('>II', test_buffer, 0)\n",
    "\n",
    "offset = struct.calcsize('>II')\n",
    "train_fmt = '>' + str(train_head[1]) + 'B'\n",
    "test_fmt = '>' + str(test_head[1]) + 'B'\n",
    "\n",
    "# load labels\n",
    "train_labels = struct.unpack_from(train_fmt, train_buffer, offset)\n",
    "test_labels = struct.unpack_from(test_fmt, test_buffer, offset)\n",
    "\n",
    "train_labels = np.reshape(train_labels, [train_head[1]])\n",
    "test_labels = np.reshape(test_labels, [test_head[1]])\n",
    "\n",
    "# print(train_head)\n",
    "# print(type(train_labels))\n",
    "# print(train_labels)"
   ]
  },
  {
   "cell_type": "code",
   "execution_count": 4,
   "metadata": {},
   "outputs": [
    {
     "data": {
      "image/png": "[encoded data removed]",
      "text/plain": [
       "<Figure size 432x288 with 1 Axes>"
      ]
     },
     "metadata": {},
     "output_type": "display_data"
    }
   ],
   "source": [
    "## display test \n",
    "fig = plt.figure()\n",
    "plt.imshow(np.reshape(train_imgs[0,:], [28,28]), cmap='gray')\n",
    "plt.show()\n",
    "plt.close()"
   ]
  },
  {
   "cell_type": "code",
   "execution_count": 5,
   "metadata": {},
   "outputs": [
    {
     "data": {
      "image/png": "[encoded data removed]",
      "text/plain": [
       "<Figure size 432x288 with 10 Axes>"
      ]
     },
     "metadata": {},
     "output_type": "display_data"
    }
   ],
   "source": [
    "## 1b - display one of each digit\n",
    "plt_ind = []\n",
    "i = 0\n",
    "cnt = 0\n",
    "for label in train_labels:\n",
    "    if i == label:\n",
    "        plt_ind.append(cnt)\n",
    "        i = i + 1\n",
    "        if i == 10:\n",
    "            break\n",
    "        pass\n",
    "    pass\n",
    "    cnt = cnt + 1\n",
    "# print(plt_ind)\n",
    "fig = plt.figure()\n",
    "for i in range(0, 10):\n",
    "    fig.add_subplot(3,4,1+i)\n",
    "    plt.axis('off')\n",
    "    plt.imshow(np.reshape(train_imgs[plt_ind[i],:], [28,28]), cmap='gray')\n",
    "# plt.savefig(\"1b.jpg\")\n",
    "plt.show()\n",
    "plt.close()"
   ]
  },
  {
   "cell_type": "code",
   "execution_count": 6,
   "metadata": {},
   "outputs": [
    {
     "name": "stderr",
     "output_type": "stream",
     "text": [
      "D:\\software\\Anaconda\\lib\\site-packages\\matplotlib\\axes\\_axes.py:6462: UserWarning: The 'normed' kwarg is deprecated, and has been replaced by the 'density' kwarg.\n",
      "  warnings.warn(\"The 'normed' kwarg is deprecated, and has been \"\n"
     ]
    }
   ],
   "source": [
    "## 1c - display normalized histogram of digit counts\n",
    "fig = plt.figure()\n",
    "sns.distplot(train_labels, norm_hist = True)\n",
    "# plt.savefig(\"1c.jpg\")\n",
    "plt.close()"
   ]
  },
  {
   "cell_type": "code",
   "execution_count": 7,
   "metadata": {},
   "outputs": [
    {
     "data": {
      "image/png": "[encoded data removed]",
      "text/plain": [
       "<Figure size 432x288 with 20 Axes>"
      ]
     },
     "metadata": {},
     "output_type": "display_data"
    },
    {
     "name": "stdout",
     "output_type": "stream",
     "text": [
      "[1020.6473436011089, 419.583126448145, 1454.2867667691953, 1123.1179813358879, 770.2194492480699, 1066.1097504478607, 1051.5441027365423, 880.9273522828089, 1121.4499543002353, 801.0855135377246]\n"
     ]
    }
   ],
   "source": [
    "## 1d - best match\n",
    "fig = plt.figure()\n",
    "best_match_L2 = []\n",
    "cnt = 0\n",
    "for i in plt_ind:\n",
    "    sample = train_imgs[i,:]\n",
    "    L2_vector = np.linalg.norm(train_imgs - sample, ord=2, axis=1)\n",
    "    L2_vector[i] = sys.maxsize\n",
    "    best_match_id = np.argmin(L2_vector)\n",
    "    best_match_L2.append(L2_vector[best_match_id])\n",
    "    fig.add_subplot(10,2,cnt*2+1)\n",
    "    plt.axis('off')\n",
    "    plt.imshow(np.reshape(train_imgs[i,:], [28,28]), cmap='gray')\n",
    "    fig.add_subplot(10,2,cnt*2+2)\n",
    "    plt.axis('off')\n",
    "    plt.imshow(np.reshape(train_imgs[best_match_id,:], [28,28]), cmap='gray')\n",
    "    cnt = cnt + 1\n",
    "# plt.savefig(\"1d.jpg\")\n",
    "plt.show()\n",
    "plt.close()\n",
    "print(best_match_L2)"
   ]
  },
  {
   "cell_type": "code",
   "execution_count": 8,
   "metadata": {},
   "outputs": [
    {
     "data": {
      "image/png": "[encoded data removed]",
      "text/plain": [
       "<Figure size 432x288 with 1 Axes>"
      ]
     },
     "metadata": {},
     "output_type": "display_data"
    }
   ],
   "source": [
    "## 1e\n",
    "# find index of 0 and 1\n",
    "indexs_0 = np.argwhere(train_labels == 0)\n",
    "indexs_1 = np.argwhere(train_labels == 1)\n",
    "train_imgs_0 = train_imgs[indexs_0,:]\n",
    "train_imgs_0 = np.reshape(train_imgs_0, [np.shape(train_imgs_0)[0], np.shape(train_imgs_0)[2]])\n",
    "train_imgs_1 = train_imgs[indexs_1,:]\n",
    "train_imgs_1 = np.reshape(train_imgs_1, [np.shape(train_imgs_1)[0], np.shape(train_imgs_1)[2]])\n",
    "\n",
    "dist0 = pairwise_distances(train_imgs_0, metric='euclidean')\n",
    "dist1 = pairwise_distances(train_imgs_1, metric='euclidean')\n",
    "dist01 = pairwise_distances(train_imgs_0, train_imgs_1, metric='euclidean')\n",
    "\n",
    "tmp0 = np.triu_indices(np.shape(dist0)[0],1)\n",
    "tmp1 = np.triu_indices(np.shape(dist1)[0],1)\n",
    "dist_genuine = np.append(dist0[tmp0], dist1[tmp1])\n",
    "dist_impostor = np.reshape(dist01, [np.shape(dist01)[0] * np.shape(dist01)[1]])\n",
    "\n",
    "bins = np.linspace(0, 5000, 1000)\n",
    "plt.hist(dist_genuine, bins, alpha=0.5, label = 'genuine')\n",
    "plt.hist(dist_impostor, bins, alpha=0.5, label = 'impostor')\n",
    "plt.legend(loc='upper right')\n",
    "# plt.savefig(\"1e.jpg\")\n",
    "plt.show()\n"
   ]
  },
  {
   "cell_type": "code",
   "execution_count": 11,
   "metadata": {},
   "outputs": [
    {
     "name": "stdout",
     "output_type": "stream",
     "text": [
      "AUC: 0.8941213517035006\n",
      "EER: 0.18898105539642254\n",
      "EER2: 0.18898102630549984\n"
     ]
    }
   ],
   "source": [
    "## 1f\n",
    "y_labels = np.append(np.zeros(np.shape(dist_genuine)[0]), np.ones(np.shape(dist_impostor)[0]))\n",
    "y_score = np.append(dist_genuine, dist_impostor)\n",
    "# print(np.shape(y_labels))\n",
    "# print(np.shape(y_score))\n",
    "fpr,tpr,threshold = roc_curve(y_labels, y_score)\n",
    "roc_auc = auc(fpr,tpr)\n",
    "print(\"AUC: \" + str(roc_auc))\n",
    "fnr = 1 - tpr\n",
    "EER = fpr[np.nanargmin(np.absolute((fnr - fpr)))]\n",
    "EER2 = fnr[np.nanargmin(np.absolute((fnr - fpr)))]\n",
    "print(\"EER: \" + str(EER))\n",
    "print(\"EER2: \" + str(EER2))\n",
    "\n",
    "# plt.figure()\n",
    "# plt.figure(figsize=(10,10))\n",
    "# plt.plot(fpr, tpr, color='darkorange',lw=2, label='ROC curve (area = %0.2f)' % roc_auc)\n",
    "# plt.plot([0, 1], [0, 1], color='navy', lw=2, linestyle='--')\n",
    "# plt.xlim([0.0, 1.0])\n",
    "# plt.ylim([0.0, 1.05])\n",
    "# plt.xlabel('False Positive Rate')\n",
    "# plt.ylabel('True Positive Rate')\n",
    "# plt.title('ROC')\n",
    "# plt.legend(loc=\"lower right\")\n",
    "# #plt.savefig(\"1f.jpg\")\n",
    "# plt.show()\n"
   ]
  },
  {
   "cell_type": "code",
   "execution_count": 4,
   "metadata": {},
   "outputs": [
    {
     "name": "stdout",
     "output_type": "stream",
     "text": [
      "(k,aver_acc): 1,0.9672\n",
      "(k,aver_acc): 2,0.9672\n"
     ]
    },
    {
     "ename": "KeyboardInterrupt",
     "evalue": "",
     "output_type": "error",
     "traceback": [
      "\u001b[1;31m---------------------------------------------------------------------------\u001b[0m",
      "\u001b[1;31mKeyboardInterrupt\u001b[0m                         Traceback (most recent call last)",
      "\u001b[1;32m<ipython-input-4-af8088528c7a>\u001b[0m in \u001b[0;36m<module>\u001b[1;34m()\u001b[0m\n\u001b[0;32m     32\u001b[0m \u001b[1;33m\u001b[0m\u001b[0m\n\u001b[0;32m     33\u001b[0m \u001b[1;32mfor\u001b[0m \u001b[0mk\u001b[0m \u001b[1;32min\u001b[0m \u001b[0mrange\u001b[0m\u001b[1;33m(\u001b[0m\u001b[1;36m1\u001b[0m\u001b[1;33m,\u001b[0m\u001b[1;36m10\u001b[0m\u001b[1;33m)\u001b[0m\u001b[1;33m:\u001b[0m\u001b[1;33m\u001b[0m\u001b[0m\n\u001b[1;32m---> 34\u001b[1;33m     \u001b[0mplabels\u001b[0m \u001b[1;33m=\u001b[0m \u001b[0mkNN_classifier\u001b[0m\u001b[1;33m(\u001b[0m\u001b[0mtrain_imgs\u001b[0m\u001b[1;33m[\u001b[0m\u001b[0mli\u001b[0m\u001b[1;33m[\u001b[0m\u001b[1;33m:\u001b[0m\u001b[1;36m30000\u001b[0m\u001b[1;33m]\u001b[0m\u001b[1;33m,\u001b[0m\u001b[1;33m:\u001b[0m\u001b[1;33m]\u001b[0m\u001b[1;33m,\u001b[0m \u001b[0mtrain_labels\u001b[0m\u001b[1;33m[\u001b[0m\u001b[0mli\u001b[0m\u001b[1;33m[\u001b[0m\u001b[1;33m:\u001b[0m\u001b[1;36m30000\u001b[0m\u001b[1;33m]\u001b[0m\u001b[1;33m]\u001b[0m\u001b[1;33m,\u001b[0m \u001b[0mk\u001b[0m\u001b[1;33m,\u001b[0m \u001b[0mtrain_imgs\u001b[0m\u001b[1;33m[\u001b[0m\u001b[0mli\u001b[0m\u001b[1;33m[\u001b[0m\u001b[1;36m30000\u001b[0m\u001b[1;33m:\u001b[0m\u001b[1;36m60000\u001b[0m\u001b[1;33m]\u001b[0m\u001b[1;33m,\u001b[0m\u001b[1;33m:\u001b[0m\u001b[1;33m]\u001b[0m\u001b[1;33m)\u001b[0m\u001b[1;33m\u001b[0m\u001b[0m\n\u001b[0m\u001b[0;32m     35\u001b[0m     \u001b[0mrlabels\u001b[0m \u001b[1;33m=\u001b[0m \u001b[0mtrain_labels\u001b[0m\u001b[1;33m[\u001b[0m\u001b[0mli\u001b[0m\u001b[1;33m[\u001b[0m\u001b[1;36m30000\u001b[0m\u001b[1;33m:\u001b[0m\u001b[1;36m60000\u001b[0m\u001b[1;33m]\u001b[0m\u001b[1;33m]\u001b[0m\u001b[1;33m\u001b[0m\u001b[0m\n\u001b[0;32m     36\u001b[0m     \u001b[0mdiff\u001b[0m \u001b[1;33m=\u001b[0m \u001b[0mplabels\u001b[0m \u001b[1;33m-\u001b[0m \u001b[0mrlabels\u001b[0m\u001b[1;33m\u001b[0m\u001b[0m\n",
      "\u001b[1;32m<ipython-input-4-af8088528c7a>\u001b[0m in \u001b[0;36mkNN_classifier\u001b[1;34m(trainset, trainlabels, k, testset)\u001b[0m\n\u001b[0;32m     10\u001b[0m         \u001b[1;31m# calculate the label for each test sample\u001b[0m\u001b[1;33m\u001b[0m\u001b[1;33m\u001b[0m\u001b[0m\n\u001b[0;32m     11\u001b[0m         \u001b[1;32mfor\u001b[0m \u001b[0mj\u001b[0m \u001b[1;32min\u001b[0m \u001b[0mrange\u001b[0m\u001b[1;33m(\u001b[0m\u001b[0mnp\u001b[0m\u001b[1;33m.\u001b[0m\u001b[0mshape\u001b[0m\u001b[1;33m(\u001b[0m\u001b[0mtestset_part\u001b[0m\u001b[1;33m)\u001b[0m\u001b[1;33m[\u001b[0m\u001b[1;36m0\u001b[0m\u001b[1;33m]\u001b[0m\u001b[1;33m)\u001b[0m\u001b[1;33m:\u001b[0m\u001b[1;33m\u001b[0m\u001b[0m\n\u001b[1;32m---> 12\u001b[1;33m             \u001b[0mkNearst_ids\u001b[0m \u001b[1;33m=\u001b[0m \u001b[0mnp\u001b[0m\u001b[1;33m.\u001b[0m\u001b[0margsort\u001b[0m\u001b[1;33m(\u001b[0m\u001b[0mdist\u001b[0m\u001b[1;33m[\u001b[0m\u001b[1;33m:\u001b[0m\u001b[1;33m,\u001b[0m\u001b[0mj\u001b[0m\u001b[1;33m]\u001b[0m\u001b[1;33m)\u001b[0m\u001b[1;33m[\u001b[0m\u001b[1;33m:\u001b[0m\u001b[0mk\u001b[0m\u001b[1;33m]\u001b[0m\u001b[1;33m\u001b[0m\u001b[0m\n\u001b[0m\u001b[0;32m     13\u001b[0m             \u001b[1;31m# print(kNearst_ids)\u001b[0m\u001b[1;33m\u001b[0m\u001b[1;33m\u001b[0m\u001b[0m\n\u001b[0;32m     14\u001b[0m             \u001b[0mkNearst_labels\u001b[0m \u001b[1;33m=\u001b[0m \u001b[0mtrainlabels\u001b[0m\u001b[1;33m[\u001b[0m\u001b[0mkNearst_ids\u001b[0m\u001b[1;33m]\u001b[0m\u001b[1;33m\u001b[0m\u001b[0m\n",
      "\u001b[1;32mD:\\software\\Anaconda\\lib\\site-packages\\numpy\\core\\fromnumeric.py\u001b[0m in \u001b[0;36margsort\u001b[1;34m(a, axis, kind, order)\u001b[0m\n\u001b[0;32m    938\u001b[0m \u001b[1;33m\u001b[0m\u001b[0m\n\u001b[0;32m    939\u001b[0m     \"\"\"\n\u001b[1;32m--> 940\u001b[1;33m     \u001b[1;32mreturn\u001b[0m \u001b[0m_wrapfunc\u001b[0m\u001b[1;33m(\u001b[0m\u001b[0ma\u001b[0m\u001b[1;33m,\u001b[0m \u001b[1;34m'argsort'\u001b[0m\u001b[1;33m,\u001b[0m \u001b[0maxis\u001b[0m\u001b[1;33m=\u001b[0m\u001b[0maxis\u001b[0m\u001b[1;33m,\u001b[0m \u001b[0mkind\u001b[0m\u001b[1;33m=\u001b[0m\u001b[0mkind\u001b[0m\u001b[1;33m,\u001b[0m \u001b[0morder\u001b[0m\u001b[1;33m=\u001b[0m\u001b[0morder\u001b[0m\u001b[1;33m)\u001b[0m\u001b[1;33m\u001b[0m\u001b[0m\n\u001b[0m\u001b[0;32m    941\u001b[0m \u001b[1;33m\u001b[0m\u001b[0m\n\u001b[0;32m    942\u001b[0m \u001b[1;33m\u001b[0m\u001b[0m\n",
      "\u001b[1;32mD:\\software\\Anaconda\\lib\\site-packages\\numpy\\core\\fromnumeric.py\u001b[0m in \u001b[0;36m_wrapfunc\u001b[1;34m(obj, method, *args, **kwds)\u001b[0m\n\u001b[0;32m     50\u001b[0m \u001b[1;32mdef\u001b[0m \u001b[0m_wrapfunc\u001b[0m\u001b[1;33m(\u001b[0m\u001b[0mobj\u001b[0m\u001b[1;33m,\u001b[0m \u001b[0mmethod\u001b[0m\u001b[1;33m,\u001b[0m \u001b[1;33m*\u001b[0m\u001b[0margs\u001b[0m\u001b[1;33m,\u001b[0m \u001b[1;33m**\u001b[0m\u001b[0mkwds\u001b[0m\u001b[1;33m)\u001b[0m\u001b[1;33m:\u001b[0m\u001b[1;33m\u001b[0m\u001b[0m\n\u001b[0;32m     51\u001b[0m     \u001b[1;32mtry\u001b[0m\u001b[1;33m:\u001b[0m\u001b[1;33m\u001b[0m\u001b[0m\n\u001b[1;32m---> 52\u001b[1;33m         \u001b[1;32mreturn\u001b[0m \u001b[0mgetattr\u001b[0m\u001b[1;33m(\u001b[0m\u001b[0mobj\u001b[0m\u001b[1;33m,\u001b[0m \u001b[0mmethod\u001b[0m\u001b[1;33m)\u001b[0m\u001b[1;33m(\u001b[0m\u001b[1;33m*\u001b[0m\u001b[0margs\u001b[0m\u001b[1;33m,\u001b[0m \u001b[1;33m**\u001b[0m\u001b[0mkwds\u001b[0m\u001b[1;33m)\u001b[0m\u001b[1;33m\u001b[0m\u001b[0m\n\u001b[0m\u001b[0;32m     53\u001b[0m \u001b[1;33m\u001b[0m\u001b[0m\n\u001b[0;32m     54\u001b[0m     \u001b[1;31m# An AttributeError occurs if the object does not have\u001b[0m\u001b[1;33m\u001b[0m\u001b[1;33m\u001b[0m\u001b[0m\n",
      "\u001b[1;31mKeyboardInterrupt\u001b[0m: "
     ]
    }
   ],
   "source": [
    "## 1g - KNN\n",
    "def kNN_classifier(trainset, trainlabels, k, testset):\n",
    "    #print(\"begin kNN\")\n",
    "    result = []\n",
    "    dist = pairwise_distances(trainset, testset, metric='euclidean')\n",
    "    #print(np.shape(dist))\n",
    "    # calculate the label for each test sample\n",
    "    for j in range(np.shape(testset)[0]):\n",
    "        kNearst_ids = np.argsort(dist[:,j])[:k]\n",
    "        # print(kNearst_ids)\n",
    "        kNearst_labels = trainlabels[kNearst_ids]\n",
    "        # print(kNearst_labels)\n",
    "        result.append(Counter(kNearst_labels).most_common(1)[0][0])\n",
    "#     part_size = 10000\n",
    "#     for part in range(int(np.shape(testset)[0] / part_size)):\n",
    "#         testset_part = testset[range(part_size * part, part_size * part + part_size),:]\n",
    "#         dist = pairwise_distances(trainset, testset_part, metric='euclidean')\n",
    "#         #print(np.shape(dist))\n",
    "#         # calculate the label for each test sample\n",
    "#         for j in range(np.shape(testset_part)[0]):\n",
    "#             kNearst_ids = np.argsort(dist[:,j])[:k]\n",
    "#             # print(kNearst_ids)\n",
    "#             kNearst_labels = trainlabels[kNearst_ids]\n",
    "#             # print(kNearst_labels)\n",
    "#             result.append(Counter(kNearst_labels).most_common(1)[0][0])\n",
    "#     if part_size * part + part_size < np.shape(testset)[0]:\n",
    "#         testset_part = testset[range(part_size * part + part_size,np.shape(testset)[0]),:]\n",
    "#         dist = pairwise_distances(trainset, testset_part, metric='euclidean')\n",
    "#         #print(np.shape(dist))\n",
    "#         # calculate the label for each test sample\n",
    "#         for j in range(np.shape(testset_part)[0]):\n",
    "#             kNearst_ids = np.argsort(dist[:,j])[:k]\n",
    "#             # print(kNearst_ids)\n",
    "#             kNearst_labels = trainlabels[kNearst_ids]\n",
    "#             # print(kNearst_labels)\n",
    "#             result.append(Counter(kNearst_labels).most_common(1)[0][0])\n",
    "    return result\n",
    "\n",
    "li = list(range(60000))\n",
    "random.shuffle(li)\n",
    "\n",
    "for k in range(1,10):\n",
    "    plabels = kNN_classifier(train_imgs[li[:30000],:], train_labels[li[:30000]], k, train_imgs[li[30000:60000],:])\n",
    "    rlabels = train_labels[li[30000:60000]]\n",
    "    diff = plabels - rlabels\n",
    "    aver_acc = np.sum(diff == 0) / len(diff)\n",
    "    print(\"(k,aver_acc): \" + str(k) + ',' + str(aver_acc))"
   ]
  },
  {
   "cell_type": "code",
   "execution_count": 5,
   "metadata": {},
   "outputs": [
    {
     "ename": "NameError",
     "evalue": "name 'rlabels' is not defined",
     "output_type": "error",
     "traceback": [
      "\u001b[1;31m---------------------------------------------------------------------------\u001b[0m",
      "\u001b[1;31mNameError\u001b[0m                                 Traceback (most recent call last)",
      "\u001b[1;32m<ipython-input-5-bd0b177bcbe3>\u001b[0m in \u001b[0;36m<module>\u001b[1;34m()\u001b[0m\n\u001b[0;32m      2\u001b[0m \u001b[0mconfusion_matrix\u001b[0m \u001b[1;33m=\u001b[0m \u001b[0mnp\u001b[0m\u001b[1;33m.\u001b[0m\u001b[0mzeros\u001b[0m\u001b[1;33m(\u001b[0m\u001b[1;33m[\u001b[0m\u001b[1;36m10\u001b[0m\u001b[1;33m,\u001b[0m\u001b[1;36m10\u001b[0m\u001b[1;33m]\u001b[0m\u001b[1;33m,\u001b[0m \u001b[0mdtype\u001b[0m\u001b[1;33m=\u001b[0m\u001b[0mint\u001b[0m\u001b[1;33m)\u001b[0m\u001b[1;33m\u001b[0m\u001b[0m\n\u001b[0;32m      3\u001b[0m \u001b[1;32mfor\u001b[0m \u001b[0mi\u001b[0m \u001b[1;32min\u001b[0m \u001b[0mrange\u001b[0m\u001b[1;33m(\u001b[0m\u001b[1;36m10\u001b[0m\u001b[1;33m)\u001b[0m\u001b[1;33m:\u001b[0m\u001b[1;33m\u001b[0m\u001b[0m\n\u001b[1;32m----> 4\u001b[1;33m     \u001b[0mindex\u001b[0m \u001b[1;33m=\u001b[0m \u001b[0mnp\u001b[0m\u001b[1;33m.\u001b[0m\u001b[0margwhere\u001b[0m\u001b[1;33m(\u001b[0m\u001b[0mrlabels\u001b[0m \u001b[1;33m==\u001b[0m \u001b[0mi\u001b[0m\u001b[1;33m)\u001b[0m\u001b[1;33m\u001b[0m\u001b[0m\n\u001b[0m\u001b[0;32m      5\u001b[0m     \u001b[1;32mfor\u001b[0m \u001b[0mj\u001b[0m \u001b[1;32min\u001b[0m \u001b[0mrange\u001b[0m\u001b[1;33m(\u001b[0m\u001b[1;36m10\u001b[0m\u001b[1;33m)\u001b[0m\u001b[1;33m:\u001b[0m\u001b[1;33m\u001b[0m\u001b[0m\n\u001b[0;32m      6\u001b[0m         \u001b[0mconfusion_matrix\u001b[0m\u001b[1;33m[\u001b[0m\u001b[0mi\u001b[0m\u001b[1;33m]\u001b[0m\u001b[1;33m[\u001b[0m\u001b[0mj\u001b[0m\u001b[1;33m]\u001b[0m \u001b[1;33m=\u001b[0m \u001b[0mnp\u001b[0m\u001b[1;33m.\u001b[0m\u001b[0msum\u001b[0m\u001b[1;33m(\u001b[0m\u001b[0mnp\u001b[0m\u001b[1;33m.\u001b[0m\u001b[0marray\u001b[0m\u001b[1;33m(\u001b[0m\u001b[0mplabels\u001b[0m\u001b[1;33m)\u001b[0m\u001b[1;33m[\u001b[0m\u001b[0mindex\u001b[0m\u001b[1;33m]\u001b[0m \u001b[1;33m==\u001b[0m \u001b[0mj\u001b[0m\u001b[1;33m)\u001b[0m\u001b[1;33m\u001b[0m\u001b[0m\n",
      "\u001b[1;31mNameError\u001b[0m: name 'rlabels' is not defined"
     ]
    }
   ],
   "source": [
    "## 1i - confusion matrix\n",
    "confusion_matrix = np.zeros([10,10], dtype=int)\n",
    "for i in range(10):\n",
    "    index = np.argwhere(rlabels == i)\n",
    "    for j in range(10):\n",
    "        confusion_matrix[i][j] = np.sum(np.array(plabels)[index] == j)\n",
    "print(confusion_matrix)\n"
   ]
  },
  {
   "cell_type": "code",
   "execution_count": 26,
   "metadata": {},
   "outputs": [],
   "source": [
    "# 1j - train & test all\n",
    "trainset = np.loadtxt(open(\"data/train.csv\",\"rb\"),delimiter=\",\",skiprows=1) \n",
    "testset = np.loadtxt(open(\"data/test.csv\",\"rb\"),delimiter=\",\",skiprows=1)\n",
    "trainlabels = trainset[:,0]\n",
    "trainset = trainset[:,1:]"
   ]
  },
  {
   "cell_type": "code",
   "execution_count": 24,
   "metadata": {},
   "outputs": [],
   "source": []
  },
  {
   "cell_type": "code",
   "execution_count": 27,
   "metadata": {},
   "outputs": [],
   "source": [
    "plabels = kNN_classifier(trainset, train_labels, 3, testset[:14000,:])"
   ]
  },
  {
   "cell_type": "code",
   "execution_count": 28,
   "metadata": {},
   "outputs": [
    {
     "name": "stdout",
     "output_type": "stream",
     "text": [
      "[8, 8, 9, 8, 6, 0, 7, 8, 7, 9, 9, 2, 9, 3, 7, 8, 6, 7, 7, 2, 1, 9, 5, 8, 6, 7, 2, 2, 0, 1, 5, 0, 0, 4, 2, 1, 0, 9, 7, 9, 3, 3, 8, 6, 1, 5, 8, 2, 4, 6, 1, 0, 3, 0, 9, 4, 2, 3, 9, 4, 5, 3, 3, 1, 1, 8, 4, 6, 9, 3, 9, 9, 1, 7, 8, 3, 5, 1, 0, 5, 2, 1, 4, 4, 3, 8, 4, 7, 9, 1, 9, 0, 3, 0, 5, 7, 1, 7, 8, 6, 1, 6, 5, 8, 2, 4, 9, 0, 5, 3, 3, 3, 9, 9, 2, 0, 4, 1, 8, 2, 6, 9, 8, 4, 6, 1, 0, 0, 8, 7, 9, 6, 6, 2, 8, 0, 9, 4, 5, 6, 7, 9, 5, 9, 4, 4, 1, 0, 5, 5, 2, 2, 3, 9, 5, 9, 9, 5, 2, 0, 2, 0, 0, 3, 2, 1, 4, 6, 4, 7, 5, 1, 9, 1, 9, 1, 5, 7, 2, 6, 8, 0, 3, 7, 6, 6, 1, 9, 6, 2, 6, 7, 6, 2, 4, 5, 9, 8, 3, 7, 7, 5, 1, 9, 2, 9, 6, 1, 1, 2, 5, 6, 4, 2, 8, 8, 2, 0, 3, 5, 1, 0, 4, 8, 2, 3, 5, 4, 8, 1, 6, 2, 5, 7, 3, 2, 8, 2, 1, 4, 3, 5, 5, 7, 9, 6, 4, 9, 0, 7, 0, 7, 1, 1, 4, 7, 7, 4, 9, 2, 9, 1, 4, 6, 8, 7, 1, 5, 7, 4, 1, 3, 0, 6, 0, 1, 6, 1, 6, 3, 1, 1, 8, 5, 1, 7, 6, 1, 3, 1, 0, 3, 2, 2, 4, 1, 5, 2, 0, 2, 5, 2, 1, 1, 9, 7, 4, 6, 0, 4, 0, 9, 3, 8, 7, 9, 4, 7, 3, 1, 1, 4, 7, 3, 0, 4, 5, 1, 4, 0, 2, 3, 5, 6, 6, 0, 1, 4, 8, 1, 7, 7, 1, 7, 1, 7, 3, 6, 2, 7, 9, 2, 1, 5, 5, 4, 1, 2, 0, 3, 1, 3, 9, 7, 3, 1, 5, 5, 8, 3, 9, 8, 6, 6, 3, 3, 1, 6, 3, 5, 9, 5, 3, 9, 2, 9, 0, 8, 1, 3, 6, 2, 4, 9, 4, 0, 3, 1, 7, 0, 7, 0, 8, 2, 0, 4, 2, 2, 1, 1, 7, 7, 6, 3, 0, 8, 1, 1, 5, 5, 7, 5, 5, 7, 7, 6, 6, 6, 4, 6, 0, 5, 7, 8, 6, 4, 3, 4, 8, 4, 1, 1, 6, 2, 9, 9, 1, 8, 9, 1, 6, 5, 4, 7, 9, 9, 8, 8, 1, 8, 1, 9, 5, 3, 7, 6, 5, 7, 2, 6, 5, 4, 9, 7, 3, 4, 7, 9, 8, 2, 6, 1, 9, 4, 5, 7, 0, 4, 1, 2, 3, 1, 3, 4, 2, 3, 1, 7, 3, 4, 2, 2, 4, 7, 3, 1, 4, 5, 1, 5, 0, 7, 1, 8, 9, 1, 8, 7, 6, 2, 7, 7, 8, 9, 8, 4, 6, 1, 1, 9, 4, 3, 5, 2, 2, 2, 1, 9, 2, 7, 1, 1, 2, 4, 7, 1, 3, 9, 0, 7, 2, 9, 1, 8, 2, 4, 1, 7, 6, 6, 4, 8, 9, 5, 4, 3, 4, 1, 9, 0, 1, 5, 2, 8, 5, 9, 3, 2, 5, 7, 9, 3, 5, 4, 5, 0, 9, 8, 9, 3, 2, 6, 3, 9, 9, 3, 1, 1, 5, 5, 2, 9, 6, 7, 0, 6, 3, 5, 8, 7, 6, 1, 5, 5, 6, 8, 8, 1, 6, 4, 5, 0, 5, 1, 4, 7, 3, 4, 5, 5, 0, 9, 9, 9, 5, 8, 7, 5, 2, 3, 4, 1, 5, 0, 5, 5, 0, 4, 6, 6, 2, 2, 7, 4, 6, 6, 9, 7, 8, 5, 8, 5, 5, 1, 1, 2, 1, 0, 6, 0, 9, 6, 7, 7, 4, 8, 0, 3, 5, 9, 5, 6, 3, 8, 0, 1, 9, 9, 8, 6, 5, 5, 7, 3, 7, 4, 4, 1, 9, 3, 5, 9, 9, 5, 0, 7, 2, 1, 9, 6, 3, 0, 1, 7, 5, 9, 4, 2, 1, 8, 1, 5, 0, 2, 1, 3, 6, 9, 6, 5, 2, 4, 9, 8, 3, 2, 9, 3, 2, 8, 0, 8, 8, 5, 4, 7, 7, 8, 5, 5, 3, 3, 7, 2, 4, 4, 4, 0, 2, 6, 6, 1, 5, 1, 7, 0, 8, 7, 9, 2, 5, 8, 4, 0, 2, 6, 8, 5, 6, 8, 0, 2, 1, 7, 9, 7, 9, 1, 0, 7, 4, 9, 0, 2, 7, 1, 0, 4, 9, 5, 4, 4, 0, 9, 1, 9, 1, 0, 8, 6, 5, 7, 6, 7, 1, 0, 8, 4, 9, 2, 9, 8, 1, 6, 1, 5, 9, 6, 7, 9, 5, 3, 9, 3, 1, 2, 6, 9, 9, 7, 5, 0, 2, 4, 2, 0, 5, 0, 0, 0, 5, 4, 3, 0, 7, 9, 9, 7, 4, 4, 3, 7, 4, 6, 6, 7, 9, 7, 0, 5, 8, 8, 4, 1, 3, 8, 7, 6, 6, 5, 8, 7, 8, 2, 0, 2, 9, 5, 0, 2, 6, 2, 1, 9, 5, 8, 8, 1, 0, 6, 6, 6, 5, 1, 5, 6, 2, 0, 1, 3, 2, 5, 1, 9, 4, 4, 7, 6, 5, 5, 2, 4, 7, 7, 2, 6, 0, 4, 1, 7, 0, 2, 6, 2, 1, 0, 8, 8, 6, 8, 2, 1, 5, 6, 1, 1, 2, 4, 7, 2, 3, 2, 6, 3, 4, 5, 6, 5, 1, 8, 2, 0, 9, 4, 1, 0, 6, 6, 4, 1, 2, 0, 7, 3, 0, 9, 7, 8, 9, 7, 8, 9, 7, 0, 1, 9, 4, 9, 8, 4, 7, 5, 5, 6, 8, 2, 5, 5, 3, 4, 0, 0, 7, 4, 8, 4, 3, 4, 4, 8, 4, 4, 7, 6, 4, 6, 9, 0, 4, 8, 8, 2, 2, 8, 2, 9, 6, 8, 9, 1, 9, 6, 6, 6, 3, 7, 6, 4, 1, 9, 3, 8, 0, 9, 3, 1, 9, 8, 1, 0, 6, 9, 4, 1, 7, 5, 0, 9, 8, 9, 2, 2, 4, 6, 0, 8, 9, 9, 8, 0, 5, 8, 8, 8, 0, 6, 2, 3, 7, 1, 6, 8, 6, 0, 9, 8, 4, 5, 6, 1, 4, 2, 5, 3, 5, 9, 4, 2, 2, 6, 6, 9, 4, 2, 6, 1, 1, 6, 8, 0, 6, 4, 6, 4, 3, 0, 0, 1, 7, 6, 1, 9, 0, 9, 6, 5, 3, 4, 0, 1, 4, 3, 4, 8, 2, 9, 3, 8, 8, 8, 7, 7, 0, 3, 5, 1, 4, 2, 8, 7, 8, 3, 4, 5, 7, 4, 8, 5, 2, 3, 7, 2, 9, 5, 0, 4, 6, 1, 1, 8, 2, 2, 0, 1, 3, 2, 9, 8, 8, 9, 0, 2, 3, 0, 9, 1, 5, 5, 8, 8, 8, 0, 9, 2, 1, 7, 1, 7, 9, 7, 1, 3, 9, 1, 9, 3, 3, 8, 8, 7, 4, 0, 3, 5, 1, 2, 7, 8, 3, 3, 2, 7, 8, 0, 9, 3, 9, 0, 6, 6, 7, 6, 2, 1, 7, 0, 8, 6, 0, 3, 4, 5, 9, 9, 3, 3, 3, 2, 1, 1, 3, 9, 7, 9, 5, 0, 9, 0, 6, 0, 0, 8, 2, 5, 4, 9, 5, 8, 5, 1, 2, 6, 5, 9, 7, 8, 3, 3, 5, 5, 0, 1, 3, 6, 4, 7, 4, 5, 6, 5, 1, 4, 2, 1, 9, 8, 8, 7, 0, 4, 0, 6, 5, 9, 2, 7, 0, 1, 7, 1, 4, 7, 6, 6, 2, 9, 1, 7, 1, 2, 1, 1, 3, 0, 0, 5, 2, 2, 4, 9, 0, 6, 0, 3, 5, 2, 1, 0, 2, 2, 2, 3, 3, 4, 6, 0, 3, 7, 1, 3, 6, 5, 2, 2, 4, 2, 4, 8, 7, 4, 9, 1, 6, 8, 0, 4, 6, 9, 5, 6, 6, 1, 7, 0, 3, 2, 7, 0, 8, 5, 9, 1, 6, 7, 2, 7, 6, 5, 3, 6, 9, 3, 7, 6, 2, 5, 1, 7, 9, 5, 0, 3, 7, 6, 0, 2, 1, 6, 7, 3, 0, 1, 3, 4, 0, 5, 3, 9, 9, 8, 9, 8, 8, 3, 6, 6, 1, 6, 3, 7, 5, 7, 7, 3, 6, 3, 6, 7, 7, 0, 2, 7, 8, 5, 7, 3, 1, 4, 8, 7, 6, 2, 2, 0, 6, 9, 4, 4, 2, 8, 4, 1, 5, 6, 1, 5, 1, 9, 0, 3, 1, 8, 3, 4, 7, 7, 5, 2, 6, 4, 4, 8, 1, 5, 6, 2, 8, 4, 6, 8, 3, 1, 3, 5, 0, 0, 5, 3, 7, 2, 5, 3, 9, 4, 9, 1, 4, 6, 1, 7, 1, 4, 9, 1, 1, 0, 3, 9, 7, 6, 3, 6, 7, 2, 9, 4, 2, 5, 9, 1, 5, 1, 2, 4, 8, 6, 1, 1, 2, 6, 4, 9, 2, 1, 7, 5, 8, 4, 9, 8, 0, 3, 8, 7, 4, 6, 7, 0, 2, 7, 0, 6, 0, 3, 1, 4, 2, 7, 4, 1, 1, 6, 6, 2, 1, 7, 6, 9, 7, 9, 0, 2, 3, 3, 8, 6, 9, 8, 3, 1, 1, 4, 6, 8, 7, 1, 4, 9, 3, 4, 8, 7, 3, 1, 4, 1, 1, 1, 8, 8, 1, 4, 4, 5, 0, 4, 3, 2, 2, 0, 4, 9, 1, 4, 9, 0, 7, 7, 0, 4, 0, 2, 8, 8, 1, 7, 6, 1, 3, 5, 8, 0, 8, 7, 4, 4, 3, 2, 1, 1, 6, 4, 0, 2, 3, 8, 8, 3, 7, 4, 2, 0, 1, 1, 2, 4, 5, 1, 2, 8, 9, 7, 8, 7, 4, 6, 6, 1, 8, 6, 7, 7, 6, 2, 7, 0, 1, 5, 8, 7, 2, 0, 3, 3, 2, 3, 8, 2, 1, 3, 9, 2, 9, 0, 8, 2, 1, 4, 8, 2, 9, 2, 2, 8, 0, 9, 5, 4, 5, 4, 3, 1, 1, 7, 8, 1, 9, 0, 9, 8, 0, 4, 3, 2, 9, 9, 9, 7, 3, 1, 5, 7, 8, 9, 9, 1, 3, 3, 2, 6, 5, 7, 0, 7, 4, 0, 7, 8, 7, 0, 4, 3, 7, 1, 9, 4, 7, 6, 5, 7, 4, 5, 2, 7, 9, 7, 4, 7, 1, 1, 3, 3, 9, 2, 4, 4, 5, 8, 6, 4, 8, 5, 1, 4, 9, 7, 7, 7, 4, 6, 2, 2, 7, 4, 9, 2, 7, 3, 1, 3, 8, 5, 7, 8, 8, 5, 3, 5, 2, 7, 1, 3, 4, 8, 5, 6, 4, 3, 0, 6, 3, 4, 7, 9, 9, 2, 2, 1, 9, 8, 9, 7, 0, 8, 0, 4, 2, 3, 5, 4, 9, 8, 1, 5, 8, 3, 8, 7, 4, 5, 9, 4, 9, 3, 3, 8, 1, 7, 2, 1, 4, 5, 3, 9, 5, 8, 6, 4, 5, 0, 1, 8, 9, 1, 1, 7, 5, 5, 9, 7, 6, 0, 2, 8, 0, 6, 7, 7, 2, 7, 8, 7, 8, 9, 2, 0, 2, 7, 6, 2, 2, 5, 2, 3, 1, 3, 5, 2, 8, 5, 3, 4, 2, 1, 0, 8, 0, 6, 0, 9, 7, 0, 9, 2, 9, 3, 1, 8, 9, 8, 3, 5, 1, 2, 6, 6, 2, 3, 6, 7, 8, 6, 7, 5, 1, 2, 9, 7, 3, 5, 7, 8, 1, 6, 6, 6, 3, 7, 9, 0, 3, 0, 0, 2, 0, 7, 1, 0, 4, 7, 3, 7, 9, 6, 6, 4, 5, 6, 3, 9, 2, 8, 6, 2, 1, 7, 2, 1, 2, 6, 1, 4, 4, 2, 6, 0, 6, 7, 0, 8, 6, 9, 4, 2, 9, 5, 5, 4, 2, 4, 0, 4, 9, 3, 1, 8, 0, 4, 2, 0, 9, 1, 1, 0, 3, 2, 2, 3, 0, 9, 6, 9, 0, 8, 6, 0, 8, 8, 4, 1, 1, 7, 6, 5, 4, 6, 8, 1, 5, 3, 0, 6, 8, 4, 8, 9, 9, 3, 6, 8, 3, 0, 4, 8, 0, 8, 3, 8, 5, 3, 4, 9, 2, 6, 7, 5, 7, 8, 5, 6, 5, 9, 8, 2, 6, 0, 3, 9, 9, 9, 3, 7, 5, 5, 8, 1, 8, 9, 1, 0, 1, 3, 3, 4, 3, 4, 6, 4, 7, 1, 9, 0, 4, 0, 1, 1, 1, 9, 0, 7, 8, 1, 2, 2, 3, 9, 4, 7, 5, 7, 5, 0, 5, 0, 2, 2, 1, 8, 8, 0, 2, 9, 6, 9, 6, 2, 7, 5, 2, 7, 9, 6, 8, 3, 1, 0, 5, 1, 1, 5, 3, 2, 0, 9, 8, 7, 0, 6, 1, 8, 2, 6, 8, 7, 8, 1, 2, 7, 5, 7, 7, 0, 9, 2, 7, 8, 6, 7, 1, 7, 1, 1, 8, 2, 3, 7, 0, 0, 3, 0, 4, 0, 3, 4, 0, 4, 8, 5, 2, 9, 1, 2, 4, 3, 5, 8, 3, 7, 9, 7, 3, 8, 2, 4, 7, 4, 3, 7, 0, 3, 2, 3, 3, 5, 9, 1, 1, 0, 6, 3, 0, 8, 3, 2, 0, 9, 2, 1, 8, 1, 1, 0, 1, 4, 3, 7, 9, 1, 7, 5, 8, 6, 3, 4, 4, 7, 5, 7, 5, 2, 8, 5, 4, 0, 6, 8, 2, 1, 3, 8, 0, 7, 3, 0, 6, 9, 1, 9, 1, 1, 9, 7, 5, 4, 5, 1, 1, 4, 1, 4, 9, 3, 0, 3, 7, 5, 2, 4, 7, 8, 9, 1, 9, 3, 3, 6, 9, 7, 2, 2, 0, 1, 0, 6, 4, 1, 7, 7, 1, 7, 8, 6, 8, 1, 9, 8, 1, 6, 4, 0, 2, 7, 0, 3, 0, 7, 4, 6, 6, 7, 9, 6, 9, 3, 8, 4, 3, 3, 7, 2, 0, 1, 9, 0, 9, 6, 4, 6, 9, 4, 8, 9, 6, 0, 2, 2, 4, 3, 9, 4, 8, 0, 7, 5, 3, 1, 2, 8, 1, 1, 0, 2, 1, 3, 1, 2, 2, 6, 6, 8, 9, 3, 9, 8, 5, 3, 0, 1, 3, 7, 5, 7, 0, 4, 9, 6, 2, 0, 7, 8, 0, 9, 3, 3, 5, 7, 2, 0, 9, 8, 0, 1, 4, 2, 3, 9, 6, 2, 7, 6, 2, 2, 1, 6, 9, 7, 3, 9, 6, 4, 6, 9, 4, 1, 1, 5, 8, 7, 6, 4, 7, 3, 3, 5, 2, 4, 3, 8, 7, 8, 6, 8, 0, 8, 2, 7, 1, 5, 2, 1, 3, 2, 8, 9, 7, 2, 1, 7, 7, 1, 6, 9, 0, 2, 5, 8, 4, 8, 1, 4, 4, 0, 3, 0, 7, 0, 3, 4, 9, 2, 7, 4, 3, 3, 7, 9, 8, 9, 7, 6, 3, 6, 8, 6, 6, 4, 6, 5, 6, 7, 4, 0, 9, 2, 7, 1, 4, 7, 8, 0, 8, 2, 6, 0, 7, 9, 0, 1, 8, 2, 4, 3, 7, 9, 8, 1, 8, 2, 5, 7, 2, 0, 0, 4, 7, 7, 1, 5, 5, 7, 1, 5, 6, 2, 9, 6, 6, 2, 7, 2, 6, 1, 9, 7, 4, 1, 3, 3, 6, 4, 5, 7, 1, 3, 5, 3, 0, 5, 7, 7, 0, 0, 9, 8, 5, 2, 2, 9, 3, 7, 7, 5, 6, 3, 7, 8, 3, 3, 9, 2, 1, 3, 7, 6, 2, 9, 0, 4, 0, 7, 1, 2, 7, 7, 6, 8, 5, 5, 2, 7, 3, 6, 1, 5, 1, 3, 9, 7, 9, 0, 6, 5, 1, 7, 2, 2, 1, 6, 3, 1, 0, 3, 0, 7, 7, 7, 6, 7, 9, 6, 4, 0, 0, 4, 8, 0, 1, 0, 1, 3, 0, 9, 8, 3, 6, 0, 4, 8, 8, 1, 3, 7, 9, 2, 7, 8, 3, 7, 2, 0, 2, 4, 7, 2, 7, 0, 1, 3, 3, 8, 5, 6, 7, 0, 2, 5, 7, 0, 6, 5, 4, 9, 2, 8, 5, 8, 4, 1, 0, 5, 0, 1, 0, 4, 7, 4, 2, 2, 6, 7, 6, 9, 9, 3, 4, 4, 3, 8, 4, 1, 0, 5, 8, 9, 0, 2, 1, 4, 5, 4, 2, 6, 9, 3, 4, 2, 5, 3, 7, 4, 8, 2, 6, 8, 1, 7, 4, 2, 1, 8, 6, 4, 8, 8, 8, 0, 3, 7, 7, 2, 3, 9, 7, 7, 6, 4, 0, 4, 8, 6, 9, 4, 1, 1, 6, 2, 6, 2, 5, 3, 9, 5, 0, 1, 3, 5, 1, 4, 2, 0, 7, 1, 6, 6, 5, 0, 5, 7, 1, 4, 6, 5, 1, 1, 2, 2, 9, 5, 7, 3, 6, 4, 7, 9, 4, 5, 6, 5, 7, 6, 4, 5, 3, 4, 1, 1, 6, 4, 1, 8, 6, 0, 5, 3, 7, 0, 6, 5, 6, 5, 8, 4, 5, 3, 4, 1, 2, 3, 3, 4, 4, 9, 7, 6, 1, 6, 0, 7, 9, 8, 6, 3, 9, 7, 4, 6, 2, 7, 6, 1, 2, 1, 1, 7, 8, 2, 7, 6, 5, 1, 7, 0, 0, 9, 6, 5, 0, 2, 8, 8, 2, 5, 2, 6, 6, 9, 9, 0, 6, 4, 9, 3, 1, 3, 7, 4, 5, 1, 7, 4, 5, 8, 4, 7, 7, 5, 1, 7, 1, 0, 0, 1, 8, 3, 9, 9, 6, 8, 7, 9, 1, 6, 2, 0, 6, 9, 0, 0, 0, 7, 4, 8, 2, 1, 8, 3, 6, 9, 0, 9, 0, 4, 0, 8, 2, 7, 3, 7, 0, 1, 4, 7, 3, 6, 5, 9, 2, 3, 9, 5, 4, 4, 9, 0, 8, 3, 7, 1, 6, 2, 9, 8, 7, 6, 6, 8, 2, 0, 9, 2, 6, 4, 1, 8, 3, 1, 0, 4, 7, 1, 8, 4, 9, 8, 0, 6, 0, 2, 3, 9, 0, 5, 3, 1, 4, 2, 1, 3, 7, 6, 1, 1, 0, 2, 4, 3, 5, 5, 7, 6, 4, 3, 6, 1, 7, 0, 1, 9, 5, 1, 1, 1, 3, 3, 0, 3, 9, 6, 4, 5, 1, 7, 9, 2, 5, 7, 4, 0, 9, 6, 5, 2, 6, 1, 5, 4, 6, 8, 0, 1, 7, 9, 6, 1, 8, 2, 9, 0, 2, 9, 1, 0, 5, 7, 4, 6, 6, 7, 4, 5, 6, 6, 3, 4, 1, 6, 1, 1, 1, 6, 7, 2, 6, 3, 9, 2, 8, 9, 0, 4, 0, 4, 4, 1, 0, 0, 8, 9, 1, 9, 1, 6, 0, 3, 7, 9, 8, 3, 2, 9, 5, 8, 3, 8, 4, 1, 3, 7, 2, 3, 8, 0, 0, 2, 3, 1, 3, 5, 3, 5, 0, 4, 9, 4, 2, 3, 3, 5, 0, 8, 8, 1, 8, 5, 2, 5, 6, 9, 3, 1, 1, 2, 2, 8, 6, 9, 6, 3, 6, 6, 8, 0, 3, 6, 3, 1, 5, 7, 1, 2, 1, 0, 1, 8, 2, 7, 2, 8, 4, 2, 0, 0, 1, 6, 8, 1, 9, 6, 2, 0, 4, 6, 4, 4, 5, 8, 1, 7, 0, 1, 7, 0, 7, 4, 3, 5, 6, 9, 7, 6, 8, 4, 1, 9, 9, 7, 1, 2, 1, 0, 7, 8, 3, 7, 8, 3, 6, 4, 7, 0, 0, 9, 3, 3, 2, 0, 9, 3, 0, 5, 0, 6, 5, 0, 3, 7, 3, 2, 2, 7, 0, 8, 8, 3, 3, 6, 6, 0, 5, 7, 0, 1, 7, 4, 3, 6, 3, 1, 8, 2, 4, 0, 1, 8, 0, 9, 5, 8, 3, 4, 2, 1, 4, 3, 1, 3, 9, 2, 2, 4, 7, 2, 1, 0, 5, 5, 5, 1, 3, 9, 4, 2, 9, 3, 1, 6, 1, 4, 8, 1, 3, 6, 9, 8, 7, 9, 3, 9, 2, 8, 9, 7, 6, 3, 7, 7, 1, 7, 9, 9, 1, 7, 1, 3, 9, 2, 7, 9, 3, 4, 5, 8, 9, 1, 8, 6, 3, 6, 0, 4, 1, 8, 2, 8, 0, 9, 2, 5, 8, 1, 2, 4, 5, 2, 9, 9, 6, 3, 7, 6, 5, 9, 2, 1, 0, 2, 7, 5, 8, 8, 3, 1, 5, 8, 9, 8, 8, 6, 8, 9, 4, 1, 5, 5, 9, 7, 6, 5, 6, 2, 2, 8, 4, 9, 4, 6, 9, 9, 6, 1, 9, 7, 5, 9, 8, 3, 4, 3, 0, 6, 6, 4, 7, 1, 0, 8, 3, 2, 3, 4, 1, 2, 8, 8, 6, 4, 8, 8, 0, 3, 9, 6, 6, 6, 2, 5, 2, 3, 2, 4, 9, 1, 3, 9, 2, 8, 5, 1, 4, 7, 3, 9, 5, 7, 3, 2, 5, 8, 5, 7, 8, 0, 5, 4, 0, 1, 7, 0, 7, 7, 2, 6, 2, 9, 0, 6, 8, 6, 4, 2, 9, 4, 6, 7, 2, 6, 9, 1, 7, 4, 1, 7, 0, 0, 7, 9, 7, 8, 2, 1, 0, 3, 3, 2, 1, 1, 2, 7, 5, 6, 9, 1, 5, 0, 6, 4, 2, 2, 1, 9, 0, 1, 6, 2, 2, 5, 8, 1, 1, 6, 4, 4, 4, 1, 6, 0, 5, 9, 6, 7, 0, 1, 8, 8, 3, 6, 9, 0, 0, 5, 2, 8, 4, 0, 5, 6, 1, 9, 2, 4, 1, 4, 6, 0, 6, 0, 1, 7, 1, 0, 4, 1, 3, 6, 1, 5, 7, 3, 2, 8, 8, 8, 0, 7, 1, 3, 4, 9, 3, 1, 9, 9, 5, 7, 2, 0, 9, 9, 3, 5, 2, 5, 7, 6, 9, 2, 6, 3, 1, 7, 4, 5, 0, 4, 9, 8, 6, 6, 3, 8, 9, 5, 5, 4, 8, 0, 3, 2, 7, 3, 4, 8, 4, 2, 5, 0, 8, 6, 5, 7, 9, 5, 8, 3, 9, 0, 2, 6, 9, 8, 1, 9, 3, 2, 1, 9, 1, 1, 6, 0, 5, 5, 0, 4, 0, 0, 7, 8, 1, 0, 2, 7, 0, 1, 6, 8, 4, 3, 3, 5, 2, 7, 3, 2, 0, 3, 3, 6, 8, 7, 8, 4, 2, 0, 3, 7, 6, 5, 1, 8, 1, 4, 1, 0, 5, 2, 9, 7, 5, 1, 7, 7, 1, 7, 5, 6, 7, 4, 4, 9, 7, 2, 8, 4, 6, 4, 7, 0, 6, 0, 5, 2, 7, 2, 3, 6, 0, 1, 9, 0, 7, 6, 2, 5, 7, 9, 7, 0, 9, 1, 5, 3, 2, 7, 1, 5, 1, 1, 8, 2, 1, 6, 1, 3, 0, 3, 7, 3, 6, 5, 8, 1, 8, 2, 0, 4, 6, 6, 0, 9, 0, 4, 3, 8, 5, 7, 1, 5, 3, 7, 5, 7, 0, 8, 4, 1, 5, 0, 7, 1, 5, 1, 6, 9, 6, 4, 0, 9, 3, 8, 1, 1, 3, 8, 5, 7, 7, 7, 0, 5, 8, 8, 4, 5, 5, 8, 6, 7, 7, 1, 5, 8, 8, 1, 8, 1, 9, 3, 9, 8, 8, 0, 2, 7, 4, 0, 5, 0, 4, 4, 8, 8, 1, 4, 5, 1, 1, 0, 7, 1, 6, 7, 0, 2, 5, 6, 6, 0, 4, 3, 1, 6, 3, 2, 4, 7, 5, 8, 7, 0, 0, 0, 4, 3, 6, 6, 6, 1, 0, 8, 0, 6, 8, 1, 0, 7, 3, 5, 6, 4, 6, 6, 7, 0, 5, 3, 9, 2, 6, 2, 5, 5, 6, 9, 3, 2, 2, 4, 0, 9, 4, 4, 0, 2, 3, 5, 8, 0, 9, 2, 7, 6, 2, 5, 9, 2, 7, 9, 1, 1, 5, 4, 2, 3, 3, 9, 8, 2, 2, 0, 8, 6, 6, 2, 7, 0, 7, 2, 4, 0, 3, 4, 8, 8, 9, 4, 5, 0, 3, 4, 8, 7, 4, 5, 1, 1, 0, 8, 6, 6, 2, 5, 5, 3, 2, 7, 2, 2, 0, 3, 1, 6, 9, 2, 2, 3, 0, 2, 4, 5, 5, 1, 5, 0, 4, 1, 2, 9, 7, 2, 4, 1, 0, 0, 4, 5, 7, 3, 2, 3, 5, 5, 5, 6, 7, 4, 7, 8, 1, 9, 8, 4, 6, 9, 5, 0, 5, 3, 8, 4, 5, 6, 6, 2, 0, 5, 6, 2, 8, 4, 3, 5, 5, 3, 6, 3, 8, 5, 7, 6, 3, 2, 1, 5, 0, 4, 0, 1, 2, 7, 7, 5, 7, 1, 6, 6, 3, 7, 1, 5, 0, 3, 1, 3, 0, 6, 2, 8, 1, 1, 5, 9, 1, 3, 5, 8, 7, 3, 9, 4, 6, 5, 7, 1, 2, 3, 5, 8, 5, 9, 6, 4, 2, 3, 9, 0, 9, 3, 1, 6, 8, 5, 5, 2, 4, 0, 4, 5, 3, 9, 6, 0, 1, 4, 2, 9, 1, 9, 4, 9, 7, 8, 8, 3, 8, 8, 2, 3, 3, 7, 1, 7, 0, 3, 3, 6, 6, 0, 4, 5, 9, 2, 3, 1, 1, 0, 4, 2, 1, 8, 9, 1, 6, 8, 6, 8, 9, 9, 3, 2, 9, 5, 7, 3, 3, 3, 9, 1, 6, 3, 7, 7, 8, 3, 1, 6, 6, 6, 5, 7, 6, 9, 7, 5, 3, 4, 8, 6, 3, 6, 1, 2, 8, 8, 3, 3, 6, 7, 9, 1, 4, 7, 9, 1, 8, 1, 4, 7, 5, 9, 1, 6, 2, 3, 3, 5, 4, 3, 3, 4, 7, 0, 2, 1, 1, 1, 0, 4, 8, 7, 6, 1, 2, 0, 7, 2, 9, 5, 5, 6, 1, 7, 1, 9, 8, 1, 8, 3, 7, 7, 8, 6, 3, 1, 9, 8, 3, 0, 7, 0, 8, 9, 6, 9, 2, 2, 4, 8, 5, 1, 3, 3, 2, 6, 0, 0, 6, 5, 3, 8, 4, 2, 0, 8, 7, 6, 5, 0, 3, 6, 9, 7, 9, 7, 8, 8, 1, 7, 7, 1, 3, 3, 3, 4, 2, 9, 6, 1, 4, 4, 2, 3, 7, 2, 1, 5, 9, 0, 8, 6, 4, 0, 2, 5, 3, 2, 9, 0, 7, 8, 9, 7, 5, 5, 7, 6, 5, 1, 1, 0, 7, 1, 2, 8, 3, 3, 0, 1, 0, 9, 3, 5, 6, 4, 2, 2, 6, 2, 0, 6, 0, 5, 5, 0, 6, 3, 4, 0, 9, 6, 5, 5, 7, 2, 2, 7, 4, 3, 9, 4, 3, 0, 1, 6, 7, 3, 5, 4, 7, 9, 0, 8, 5, 5, 0, 3, 9, 8, 3, 0, 2, 7, 0, 9, 8, 4, 5, 7, 7, 1, 9, 6, 8, 7, 8, 0, 1, 6, 9, 2, 9, 9, 9, 5, 8, 8, 0, 0, 6, 1, 3, 6, 6, 2, 3, 4, 3, 7, 6, 6, 1, 3, 8, 8, 7, 0, 7, 7, 4, 9, 0, 6, 7, 9, 8, 8, 3, 0, 7, 3, 7, 1, 4, 4, 2, 1, 8, 9, 8, 5, 4, 9, 8, 1, 5, 8, 3, 1, 5, 1, 8, 9, 2, 3, 4, 4, 0, 3, 7, 4, 2, 7, 3, 8, 7, 3, 4, 3, 4, 1, 8, 7, 5, 4, 9, 7, 7, 3, 1, 7, 5, 9, 1, 1, 2, 3, 1, 2, 6, 9, 2, 2, 0, 5, 2, 5, 8, 0, 6, 2, 1, 6, 0, 7, 9, 1, 4, 3, 0, 7, 2, 8, 1, 8, 4, 8, 4, 4, 4, 8, 1, 6, 2, 0, 1, 3, 1, 1, 5, 0, 4, 4, 4, 3, 4, 5, 6, 3, 1, 5, 6, 2, 3, 7, 9, 4, 6, 0, 3, 2, 7, 3, 6, 0, 1, 2, 9, 0, 1, 9, 9, 4, 6, 4, 7, 2, 4, 5, 6, 1, 2, 9, 7, 0, 4, 4, 4, 2, 8, 4, 0, 4, 5, 3, 6, 8, 3, 9, 0, 7, 9, 6, 8, 5, 5, 6, 7, 1, 1, 7, 8, 5, 9, 8, 8, 5, 8, 1, 6, 4, 2, 8, 4, 4, 6, 5, 3, 8, 4, 1, 6, 9, 4, 0, 9, 1, 1, 7, 0, 1, 8, 4, 9, 1, 0, 5, 4, 8, 8, 9, 7, 9, 2, 9, 9, 3, 1, 5, 7, 4, 8, 1, 0, 3, 1, 6, 8, 3, 4, 6, 5, 7, 0, 2, 7, 5, 7, 6, 7, 5, 1, 1, 3, 7, 5, 0, 4, 1, 7, 3, 6, 6, 9, 0, 7, 4, 1, 5, 8, 3, 0, 2, 6, 5, 0, 7, 4, 0, 3, 4, 8, 3, 8, 9, 1, 1, 5, 7, 2, 0, 6, 6, 0, 8, 6, 2, 5, 5, 0, 3, 4, 8, 7, 6, 5, 6, 8, 6, 7, 4, 5, 2, 3, 0, 1, 1, 6, 1, 0, 4, 9, 0, 8, 9, 9, 1, 4, 8, 6, 4, 5, 6, 0, 1, 8, 2, 3, 5, 1, 2, 0, 4, 6, 1, 6, 8, 1, 2, 7, 3, 4, 6, 5, 7, 3, 6, 1, 2, 0, 6, 3, 1, 4, 2, 1, 7, 4, 3, 0, 8, 7, 8, 8, 8, 3, 6, 5, 7, 5, 9, 5, 1, 7, 4, 5, 4, 4, 1, 1, 7, 8, 4, 1, 3, 1, 5, 6, 1, 8, 6, 8, 9, 0, 0, 3, 7, 3, 4, 5, 5, 2, 3, 2, 4, 6, 4, 0, 5, 1, 5, 6, 2, 3, 0, 4, 2, 2, 0, 4, 4, 1, 4, 8, 2, 1, 6, 3, 6, 2, 6, 2, 6, 7, 3, 4, 8, 0, 0, 1, 0, 4, 4, 3, 5, 1, 1, 2, 9, 7, 9, 1, 1, 7, 7, 4, 9, 6, 8, 7, 9, 9, 2, 4, 7, 1, 8, 3, 6, 5, 7, 3, 6, 6, 0, 7, 4, 5, 6, 4, 9, 5, 5, 1, 0, 8, 9, 1, 5, 4, 6, 8, 2, 2, 9, 8, 7, 5, 3, 9, 0, 1, 6, 9, 7, 7, 2, 9, 5, 8, 7, 1, 1, 4, 7, 1, 7, 9, 2, 6, 1, 3, 2, 8, 7, 1, 6, 5, 4, 4, 8, 7, 9, 8, 6, 0, 3, 8, 7, 6, 3, 3, 3, 3, 1, 3, 7, 8, 7, 1, 2, 7, 1, 2, 3, 7, 9, 6, 0, 4, 8, 1, 8, 0, 1, 1, 6, 2, 2, 5, 4, 1, 1, 3, 1, 7, 1, 5, 1, 9, 7, 2, 2, 1, 1, 7, 0, 6, 2, 5, 2, 1, 1, 9, 8, 1, 4, 5, 3, 5, 8, 7, 2, 6, 7, 4, 8, 9, 1, 8, 4, 0, 2, 1, 1, 6, 8, 1, 1, 9, 4, 0, 6, 3, 7, 7, 0, 7, 9, 6, 1, 2, 0, 2, 1, 8, 7, 0, 3, 8, 7, 7, 3, 8, 9, 8, 4, 8, 7, 7, 8, 3, 2, 0, 6, 0, 2, 8, 9, 6, 0, 7, 2, 0, 7, 7, 4, 2, 2, 2, 7, 0, 1, 0, 1, 6, 1, 0, 7, 9, 8, 0, 8, 3, 6, 8, 6, 6, 6, 9, 1, 1, 4, 1, 4, 1, 0, 7, 5, 0, 0, 5, 2, 3, 8, 4, 9, 0, 4, 6, 4, 5, 0, 6, 8, 2, 9, 3, 0, 7, 5, 7, 5, 1, 5, 6, 6, 9, 6, 4, 9, 2, 6, 5, 0, 1, 7, 6, 4, 5, 3, 2, 2, 7, 8, 5, 6, 8, 3, 8, 5, 8, 0, 7, 2, 9, 3, 0, 1, 1, 1, 7, 6, 2, 1, 1, 1, 1, 3, 3, 0, 8, 0, 6, 5, 3, 2, 7, 7, 9, 3, 2, 7, 2, 4, 0, 2, 9, 1, 9, 9, 8, 1, 7, 2, 6, 7, 0, 2, 1, 9, 6, 3, 9, 2, 3, 6, 8, 7, 2, 4, 0, 9, 9, 9, 2, 0, 5, 5, 2, 0, 0, 4, 0, 9, 9, 0, 4, 7, 6, 4, 7, 1, 1, 0, 8, 8, 7, 4, 5, 1, 1, 3, 2, 0, 3, 5, 0, 5, 1, 6, 2, 5, 9, 0, 2, 6, 0, 9, 1, 4, 3, 3, 7, 2, 7, 9, 1, 7, 2, 4, 5, 1, 2, 2, 8, 7, 3, 3, 8, 4, 0, 1, 5, 0, 8, 6, 7, 9, 9, 7, 3, 6, 0, 3, 2, 6, 8, 1, 0, 6, 7, 6, 7, 1, 8, 1, 8, 9, 9, 7, 8, 0, 6, 9, 1, 0, 9, 0, 6, 6, 8, 8, 1, 4, 9, 3, 1, 9, 6, 6, 9, 4, 7, 1, 7, 8, 7, 7, 4, 3, 5, 8, 9, 9, 6, 2, 7, 1, 0, 1, 1, 5, 7, 1, 5, 6, 6, 6, 9, 8, 9, 1, 1, 3, 8, 7, 7, 1, 0, 1, 5, 6, 3, 3, 9, 3, 0, 3, 7, 4, 2, 3, 9, 3, 5, 4, 7, 8, 2, 5, 9, 3, 6, 9, 8, 0, 2, 7, 2, 1, 2, 0, 9, 9, 1, 0, 5, 6, 0, 5, 6, 3, 7, 2, 7, 1, 0, 9, 0, 0, 0, 7, 1, 1, 9, 4, 9, 6, 3, 9, 6, 6, 2, 5, 8, 8, 1, 1, 1, 0, 2, 1, 8, 3, 3, 9, 1, 6, 3, 6, 2, 1, 7, 8, 7, 6, 3, 3, 8, 2, 4, 8, 4, 2, 6, 2, 5, 7, 6, 3, 5, 1, 0, 7, 8, 8, 5, 4, 1, 0, 7, 8, 1, 2, 8, 7, 4, 9, 7, 4, 7, 9, 5, 4, 6, 9, 1, 1, 0, 1, 6, 0, 1, 3, 7, 6, 8, 3, 8, 2, 7, 2, 2, 0, 8, 5, 8, 3, 5, 3, 2, 8, 8, 4, 9, 9, 9, 6, 8, 4, 0, 1, 5, 1, 2, 4, 6, 9, 5, 4, 7, 9, 9, 5, 9, 1, 3, 7, 2, 9, 8, 3, 5, 9, 3, 1, 7, 8, 7, 1, 5, 4, 7, 8, 4, 5, 4, 3, 3, 5, 4, 0, 8, 4, 4, 4, 1, 7, 9, 0, 4, 9, 6, 7, 6, 3, 8, 7, 8, 8, 1, 5, 9, 0, 2, 1, 1, 1, 4, 2, 0, 5, 7, 0, 6, 4, 8, 0, 9, 8, 1, 2, 5, 8, 2, 3, 7, 0, 0, 1, 0, 9, 9, 4, 1, 7, 6, 8, 0, 5, 3, 2, 1, 0, 7, 3, 6, 5, 8, 4, 8, 2, 4, 5, 1, 4, 7, 2, 7, 1, 3, 9, 4, 7, 6, 0, 3, 2, 7, 3, 4, 4, 7, 3, 3, 0, 7, 8, 4, 1, 4, 8, 9, 3, 6, 6, 8, 1, 9, 6, 7, 1, 2, 9, 2, 7, 0, 0, 5, 8, 1, 0, 0, 0, 1, 4, 7, 2, 7, 9, 0, 3, 3, 6, 1, 8, 7, 7, 0, 8, 8, 4, 7, 4, 8, 5, 9, 1, 2, 8, 2, 4, 5, 9, 5, 8, 5, 8, 6, 9, 3, 5, 3, 2, 1, 1, 0, 1, 4, 4, 3, 3, 0, 4, 9, 0, 3, 2, 8, 3, 2, 1, 7, 7, 8, 3, 1, 5, 0, 5, 7, 1, 8, 1, 4, 9, 3, 4, 4, 6, 1, 2, 5, 0, 7, 5, 4, 0, 9, 6, 3, 7, 5, 8, 0, 2, 7, 8, 9, 7, 6, 5, 4, 9, 8, 9, 6, 3, 9, 9, 7, 9, 4, 8, 1, 8, 8, 3, 4, 7, 2, 3, 9, 0, 8, 4, 2, 5, 1, 3, 9, 5, 3, 5, 7, 1, 1, 3, 5, 0, 7, 1, 9, 9, 9, 1, 1, 5, 9, 9, 0, 1, 2, 3, 7, 9, 0, 2, 4, 8, 1, 9, 3, 9, 2, 2, 1, 0, 0, 5, 6, 9, 5, 4, 4, 8, 7, 9, 5, 5, 4, 2, 2, 9, 5, 2, 2, 4, 2, 2, 5, 9, 2, 3, 6, 3, 8, 0, 7, 4, 3, 5, 4, 6, 3, 0, 0, 9, 2, 3, 9, 7, 1, 6, 7, 5, 0, 1, 2, 0, 2, 5, 4, 7, 2, 0, 1, 9, 6, 5, 6, 8, 0, 4, 2, 3, 2, 4, 3, 5, 1, 5, 7, 3, 1, 4, 1, 1, 0, 9, 2, 0, 0, 9, 0, 0, 4, 7, 7, 5, 4, 6, 0, 6, 5, 2, 8, 3, 0, 2, 2, 9, 0, 7, 9, 5, 6, 6, 5, 0, 2, 2, 1, 8, 0, 7, 4, 3, 1, 6, 9, 9, 9, 1, 7, 7, 6, 2, 1, 4, 9, 9, 1, 4, 6, 9, 1, 8, 1, 4, 6, 6, 4, 3, 3, 6, 8, 0, 5, 1, 8, 7, 2, 8, 6, 2, 8, 2, 8, 5, 6, 8, 4, 3, 1, 9, 9, 2, 5, 5, 1, 3, 8, 2, 9, 9, 7, 4, 0, 9, 8, 4, 7, 6, 6, 1, 4, 5, 8, 0, 3, 3, 3, 8, 8, 1, 0, 7, 5, 4, 5, 0, 8, 1, 8, 8, 9, 8, 6, 2, 4, 8, 0, 4, 0, 9, 0, 7, 8, 4, 1, 0, 9, 9, 4, 4, 6, 6, 1, 1, 9, 2, 9, 2, 8, 2, 4, 8, 2, 5, 5, 3, 1, 0, 9, 0, 5, 0, 5, 3, 7, 1, 7, 9, 8, 9, 9, 4, 0, 5, 5, 6, 2, 8, 4, 2, 0, 3, 5, 5, 2, 7, 7, 3, 0, 5, 0, 2, 2, 4, 1, 1, 5, 5, 6, 6, 0, 9, 7, 9, 7, 1, 1, 5, 1, 2, 2, 6, 0, 1, 8, 7, 6, 2, 7, 9, 3, 2, 2, 4, 5, 7, 9, 8, 7, 7, 5, 3, 1, 3, 3, 2, 2, 3, 2, 5, 5, 8, 1, 3, 6, 0, 1, 8, 1, 0, 2, 9, 0, 6, 1, 5, 6, 4, 5, 5, 4, 2, 2, 9, 1, 8, 0, 2, 4, 3, 1, 0, 6, 2, 1, 6, 1, 6, 5, 2, 1, 0, 8, 8, 4, 8, 3, 1, 4, 8, 6, 0, 3, 3, 5, 8, 2, 4, 0, 9, 4, 2, 4, 4, 7, 5, 3, 2, 3, 1, 5, 7, 1, 4, 4, 8, 2, 1, 0, 5, 1, 5, 7, 9, 3, 5, 3, 6, 1, 4, 4, 6, 1, 9, 1, 8, 6, 8, 5, 9, 7, 7, 9, 7, 6, 1, 6, 5, 8, 6, 3, 6, 2, 7, 7, 9, 9, 3, 1, 5, 6, 5, 4, 1, 5, 8, 4, 7, 5, 9, 9, 5, 6, 3, 6, 1, 4, 3, 3, 2, 9, 6, 3, 8, 2, 4, 1, 7, 6, 0, 7, 5, 9, 9, 0, 0, 1, 1, 3, 2, 1, 9, 4, 6, 8, 3, 0, 0, 4, 9, 5, 9, 6, 4, 2, 7, 7, 7, 8, 9, 0, 2, 9, 5, 1, 1, 5, 0, 0, 9, 5, 8, 7, 5, 4, 8, 6, 5, 1, 6, 0, 2, 1, 5, 5, 1, 3, 6, 8, 9, 7, 8, 7, 7, 6, 7, 0, 3, 0, 0, 4, 2, 7, 1, 4, 2, 6, 1, 7, 1, 0, 0, 8, 1, 7, 1, 2, 9, 3, 1, 1, 4, 0, 5, 5, 5, 4, 8, 0, 6, 7, 1, 4, 6, 3, 2, 4, 2, 7, 2, 9, 0, 3, 4, 0, 0, 7, 4, 2, 3, 4, 5, 1, 5, 0, 6, 9, 2, 9, 1, 5, 6, 4, 2, 5, 5, 7, 6, 4, 2, 4, 4, 1, 4, 2, 7, 5, 7, 3, 8, 7, 6, 6, 0, 9, 1, 8, 3, 1, 7, 8, 6, 9, 6, 6, 4, 7, 3, 5, 7, 7, 8, 0, 2, 5, 1, 2, 7, 0, 1, 5, 3, 4, 9, 3, 7, 7, 9, 1, 3, 7, 0, 7, 6, 9, 5, 6, 7, 5, 9, 8, 0, 4, 3, 0, 1, 1, 9, 2, 0, 3, 7, 7, 1, 0, 3, 3, 8, 3, 8, 7, 3, 1, 1, 4, 1, 1, 7, 7, 1, 1, 9, 6, 4, 0, 4, 7, 2, 2, 3, 4, 8, 5, 2, 4, 0, 1, 0, 4, 4, 6, 9, 6, 4, 5, 2, 9, 6, 8, 1, 9, 2, 7, 5, 0, 0, 1, 9, 2, 0, 5, 9, 7, 1, 2, 7, 9, 1, 7, 4, 2, 9, 6, 5, 4, 3, 8, 1, 5, 1, 5, 6, 5, 6, 5, 2, 5, 2, 1, 2, 3, 0, 0, 9, 3, 7, 3, 4, 3, 9, 7, 1, 8, 6, 9, 7, 5, 5, 8, 4, 8, 6, 1, 8, 9, 9, 8, 9, 7, 3, 2, 2, 3, 8, 7, 7, 5, 9, 9, 3, 4, 9, 1, 7, 3, 2, 6, 2, 5, 4, 3, 4, 1, 8, 6, 7, 9, 7, 5, 8, 7, 6, 4, 4, 4, 6, 4, 6, 6, 5, 6, 0, 7, 5, 8, 9, 1, 9, 6, 8, 1, 8, 1, 0, 2, 7, 5, 9, 8, 3, 9, 5, 9, 6, 0, 7, 7, 5, 9, 9, 1, 6, 4, 6, 1, 3, 7, 7, 2, 1, 0, 3, 2, 1, 3, 5, 6, 1, 7, 6, 0, 4, 9, 3, 3, 3, 9, 6, 7, 0, 0, 8, 5, 6, 9, 1, 5, 7, 0, 0, 5, 8, 3, 0, 4, 4, 3, 1, 4, 5, 7, 1, 4, 3, 9, 4, 1, 7, 9, 9, 0, 4, 8, 7, 7, 2, 7, 2, 2, 6, 6, 9, 4, 5, 9, 3, 7, 8, 8, 4, 7, 1, 1, 0, 6, 9, 0, 2, 3, 7, 2, 8, 9, 2, 0, 7, 2, 8, 7, 5, 1, 0, 0, 7, 1, 1, 7, 1, 2, 6, 2, 6, 7, 9, 3, 5, 8, 6, 3, 8, 4, 1, 4, 9, 6, 5, 7, 5, 2, 9, 3, 8, 6, 7, 6, 0, 5, 1, 3, 8, 1, 2, 4, 4, 0, 3, 7, 1, 3, 5, 2, 3, 5, 3, 2, 7, 1, 3, 6, 5, 6, 0, 4, 2, 7, 4, 1, 6, 8, 4, 9, 4, 4, 8, 5, 6, 3, 8, 1, 2, 7, 5, 7, 9, 2, 4, 3, 9, 6, 6, 4, 4, 0, 4, 8, 0, 9, 7, 0, 2, 3, 9, 0, 1, 7, 8, 0, 9, 3, 5, 7, 7, 7, 0, 5, 8, 4, 5, 6, 8, 5, 3, 1, 2, 6, 1, 5, 4, 9, 0, 9, 9, 4, 9, 3, 3, 6, 6, 8, 5, 8, 2, 4, 3, 8, 3, 1, 0, 5, 6, 9, 7, 3, 0, 9, 2, 7, 2, 7, 0, 9, 1, 8, 8, 1, 3, 9, 6, 2, 4, 6, 1, 0, 2, 5, 9, 8, 1, 4, 2, 2, 5, 3, 7, 6, 4, 3, 7, 2, 7, 2, 8, 6, 4, 3, 9, 1, 0, 9, 8, 0, 7, 0, 2, 4, 1, 1, 2, 1, 0, 1, 6, 0, 8, 1, 8, 0, 9, 0, 6, 4, 0, 1, 2, 5, 9, 8, 1, 7, 2, 2, 6, 6, 3, 3, 2, 3, 0, 7, 9, 8, 8, 8, 3, 4, 6, 0, 0, 6, 6, 9, 7, 6, 8, 6, 0, 9, 0, 0, 4, 5, 0, 0, 3, 2, 9, 9, 9, 6, 2, 3, 9, 4, 0, 6, 7, 9, 0, 5, 2, 3, 7, 2, 7, 2, 7, 4, 6, 7, 2, 1, 2, 8, 9, 9, 1, 9, 1, 2, 5, 6, 5, 2, 1, 5, 2, 7, 6, 4, 3, 3, 1, 2, 6, 3, 2, 7, 1, 1, 8, 9, 3, 6, 1, 0, 2, 5, 0, 1, 6, 8, 4, 2, 4, 2, 3, 7, 2, 7, 1, 0, 1, 6, 2, 0, 9, 9, 0, 3, 2, 7, 7, 0, 3, 0, 2, 9, 0, 1, 0, 1, 6, 9, 8, 5, 4, 6, 1, 1, 3, 7, 4, 4, 7, 7, 4, 0, 1, 9, 4, 4, 5, 5, 9, 6, 2, 9, 0, 1, 7, 8, 4, 7, 1, 0, 2, 7, 9, 2, 6, 1, 1, 7, 7, 0, 2, 2, 5, 5, 3, 3, 2, 0, 6, 1, 8, 4, 3, 2, 1, 5, 3, 1, 7, 0, 3, 2, 0, 6, 9, 1, 3, 0, 8, 5, 1, 1, 6, 1, 3, 5, 2, 1, 9, 2, 3, 1, 3, 7, 0, 4, 1, 2, 6, 1, 1, 4, 9, 3, 0, 4, 5, 6, 2, 8, 1, 1, 0, 7, 4, 1, 1, 4, 1, 9, 0, 2, 9, 2, 3, 0, 2, 7, 1, 3, 4, 5, 6, 2, 2, 3, 2, 2, 8, 1, 5, 0, 8, 3, 2, 3, 1, 1, 7, 7, 5, 3, 4, 4, 0, 8, 7, 4, 6, 8, 7, 0, 7, 5, 6, 1, 0, 4, 9, 4, 5, 4, 3, 5, 2, 1, 1, 2, 6, 7, 7, 1, 9, 1, 2, 0, 2, 6, 2, 7, 7, 9, 8, 4, 4, 9, 2, 6, 9, 4, 7, 7, 5, 6, 5, 6, 6, 6, 5, 2, 0, 4, 8, 6, 3, 2, 4, 0, 1, 7, 3, 8, 3, 0, 1, 2, 6, 0, 7, 0, 1, 2, 0, 3, 6, 2, 4, 4, 1, 3, 6, 3, 9, 5, 3, 7, 6, 5, 1, 6, 0, 5, 5, 8, 7, 0, 0, 0, 9, 6, 7, 5, 9, 0, 0, 2, 1, 7, 9, 8, 0, 9, 1, 3, 9, 9, 4, 0, 9, 5, 0, 1, 9, 9, 9, 6, 1, 2, 1, 4, 8, 4, 4, 0, 9, 7, 9, 6, 4, 1, 1, 8, 4, 6, 1, 4, 1, 6, 4, 7, 6, 2, 3, 7, 2, 0, 1, 2, 9, 6, 4, 8, 9, 6, 0, 4, 6, 7, 5, 3, 7, 3, 7, 6, 4, 4, 8, 2, 4, 4, 7, 8, 1, 5, 6, 8, 9, 7, 9, 3, 6, 3, 7, 8, 5, 3, 8, 1, 1, 0, 9, 0, 7, 1, 2, 4, 2, 2, 6, 3, 0, 7, 0, 1, 2, 5, 3, 9, 7, 0, 8, 7, 7, 1, 2, 0, 2, 9, 6, 6, 3, 5, 5, 5, 6, 4, 6, 6, 3, 1, 4, 3, 0, 5, 9, 0, 4, 5, 5, 7, 4, 5, 3, 1, 8, 8, 1, 4, 9, 6, 2, 4, 3, 7, 5, 9, 0, 2, 7, 4, 6, 1, 8, 1, 6, 7, 4, 7, 9, 9, 6, 6, 0, 3, 2, 8, 4, 0, 3, 8, 6, 3, 1, 3, 4, 8, 8, 2, 6, 4, 8, 4, 6, 6, 1, 8, 3, 6, 7, 0, 1, 5, 3, 4, 1, 8, 8, 0, 4, 2, 5, 5, 9, 8, 9, 5, 4, 4, 3, 2, 9, 7, 7, 6, 8, 5, 9, 7, 9, 0, 0, 4, 4, 4, 6, 9, 7, 1, 6, 5, 6, 2, 4, 0, 4, 4, 8, 3, 2, 9, 5, 3, 4, 4, 1, 3, 5, 5, 1, 1, 5, 5, 2, 1, 5, 0, 3, 6, 8, 4, 9, 7, 8, 9, 7, 8, 5, 0, 4, 0, 1, 0, 8, 1, 3, 7, 3, 2, 0, 8, 6, 4, 5, 3, 7, 1, 2, 2, 1, 8, 9, 4, 7, 4, 3, 0, 5, 8, 3, 4, 2, 6, 8, 9, 8, 6, 2, 8, 8, 8, 3, 9, 2, 5, 9, 2, 7, 1, 6, 9, 6, 8, 5, 0, 8, 1, 5, 3, 1, 0, 8, 6, 1, 1, 6, 6, 6, 2, 0, 9, 8, 9, 0, 0, 5, 7, 4, 6, 0, 9, 5, 0, 9, 8, 9, 7, 6, 9, 9, 9, 6, 7, 9, 7, 5, 2, 1, 6, 9, 3, 2, 8, 1, 2, 2, 4, 7, 9, 1, 0, 1, 7, 3, 7, 4, 2, 9, 6, 4, 1, 1, 9, 2, 9, 0, 6, 4, 0, 5, 4, 6, 5, 0, 4, 3, 8, 3, 5, 7, 7, 5, 6, 1, 1, 9, 9, 2, 7, 0, 1, 4, 9, 9, 6, 7, 7, 9, 8, 7, 1, 0, 6, 8, 9, 7, 5, 3, 6, 3, 1, 3, 9, 3, 5, 9, 3, 2, 5, 5, 6, 5, 9, 9, 6, 1, 2, 8, 7, 4, 7, 2, 6, 0, 7, 4, 0, 6, 8, 6, 0, 7, 3, 4, 5, 1, 7, 4, 2, 7, 4, 4, 6, 6, 8, 5, 5, 4, 9, 2, 5, 6, 0, 6, 6, 3, 2, 3, 5, 4, 6, 6, 3, 9, 9, 8, 5, 2, 1, 9, 0, 9, 0, 9, 2, 1, 1, 7, 1, 0, 1, 0, 0, 3, 8, 3, 1, 4, 5, 9, 8, 7, 7, 0, 9, 3, 6, 8, 2, 1, 4, 3, 1, 6, 3, 0, 8, 5, 9, 4, 0, 7, 3, 8, 0, 2, 6, 1, 8, 3, 2, 9, 9, 4, 8, 1, 8, 9, 2, 4, 9, 8, 0, 5, 2, 4, 7, 5, 7, 4, 2, 7, 1, 1, 3, 4, 4, 2, 1, 5, 6, 0, 4, 9, 5, 1, 9, 1, 6, 4, 9, 4, 6, 1, 9, 4, 5, 6, 2, 6, 5, 3, 6, 4, 8, 2, 6, 9, 0, 2, 8, 0, 2, 3, 9, 2, 8, 4, 6, 5, 3, 1, 1, 3, 2, 3, 9, 1, 0, 1, 8, 6, 0, 1, 3, 2, 9, 2, 2, 2, 8, 2, 4, 1, 2, 9, 1, 1, 2, 5, 7, 6, 5, 7, 0, 3, 1, 4, 7, 3, 2, 5, 1, 4, 3, 3, 7, 2, 0, 6, 0, 2, 9, 6, 9, 9, 4, 5, 1, 4, 1, 3, 1, 0, 1, 3, 6, 1, 7, 5, 3, 9, 6, 3, 2, 2, 2, 9, 8, 3, 3, 5, 3, 6, 7, 1, 6, 0, 6, 7, 9, 7, 4, 3, 6, 3, 8, 8, 4, 8, 3, 2, 9, 1, 3, 5, 6, 3, 3, 5, 0, 5, 5, 6, 7, 0, 8, 2, 8, 3, 8, 3, 6, 7, 5, 7, 2, 5, 7, 5, 7, 0, 7, 7, 8, 1, 2, 4, 2, 2, 7, 6, 4, 7, 4, 1, 8, 1, 3, 7, 5, 2, 7, 8, 5, 2, 6, 4, 6, 5, 1, 3, 3, 9, 8, 2, 8, 9, 1, 6, 2, 8, 4, 8, 7, 6, 6, 1, 9, 7, 8, 5, 0, 2, 7, 8, 0, 3, 0, 7, 4, 7, 2, 8, 2, 9, 5, 3, 4, 0, 0, 9, 5, 7, 7, 1, 0, 3, 4, 5, 1, 7, 1, 0, 0, 7, 0, 4, 5, 6, 4, 5, 1, 0, 7, 6, 6, 9, 1, 0, 5, 9, 4, 7, 2, 8, 2, 5, 1, 0, 4, 4, 3, 8, 2, 7, 3, 7, 5, 7, 5, 1, 6, 3, 6, 5, 1, 3, 4, 0, 9, 1, 6, 3, 9, 7, 1, 5, 6, 2, 2, 9, 0, 1, 3, 9, 0, 6, 0, 9, 2, 2, 3, 2, 8, 4, 1, 3, 7, 6, 0, 7, 3, 8, 3, 1, 6, 7, 4, 1, 9, 5, 3, 9, 3, 6, 4, 2, 2, 4, 1, 8, 4, 3, 9, 3, 1, 1, 3, 4, 2, 1, 8, 6, 3, 8, 3, 3, 6, 1, 4, 2, 7, 8, 9, 4, 6, 7, 8, 1, 9, 9, 4, 2, 2, 8, 2, 6, 5, 2, 3, 6, 3, 8, 7, 2, 3, 8, 8, 7, 4, 9, 1, 7, 4, 5, 6, 2, 3, 7, 6, 2, 6, 4, 8, 6, 9, 2, 4, 7, 1, 9, 8, 4, 9, 2, 5, 1, 2, 1, 4, 8, 9, 8, 4, 4, 7, 4, 6, 0, 2, 0, 6, 6, 4, 3, 1, 1, 7, 7, 1, 8, 3, 4, 3, 9, 8, 8, 7, 4, 4, 3, 8, 7, 2, 5, 1, 8, 9, 3, 9, 6, 9, 8, 5, 6, 7, 2, 4, 9, 4, 8, 2, 2, 7, 2, 9, 4, 3, 7, 1, 1, 1, 8, 3, 4, 6, 9, 3, 1, 2, 1, 8, 3, 8, 6, 6, 8, 1, 2, 5, 6, 2, 0, 3, 4, 6, 1, 6, 6, 2, 3, 3, 0, 2, 6, 5, 7, 2, 3, 7, 7, 7, 4, 9, 5, 7, 6, 5, 0, 4, 8, 2, 6, 5, 7, 9, 2, 1, 7, 6, 4, 0, 2, 1, 7, 7, 6, 5, 3, 6, 3, 3, 3, 6, 7, 6, 9, 9, 9, 0, 4, 7, 5, 9, 4, 1, 7, 2, 7, 1, 3, 7, 1, 3, 6, 9, 9, 2, 3, 8, 4, 5, 2, 1, 8, 8, 2, 4, 5, 5, 5, 8, 6, 1, 1, 2, 8, 3, 8, 1, 1, 0, 0, 8, 9, 4, 9, 2, 3, 4, 2, 9, 3, 4, 0, 0, 5, 1, 6, 7, 9, 9, 0, 4, 6, 5, 1, 1, 9, 2, 4, 1, 3, 0, 6, 1, 6, 2, 2, 9, 0, 6, 8, 9, 1, 6, 5, 4, 3, 3, 3, 1, 4, 0, 7, 1, 7, 6, 1, 4, 6, 2, 0, 5, 1, 3, 2, 9, 9, 2, 9, 6, 7, 1, 7, 0, 9, 4, 7, 7, 4, 2, 6, 5, 9, 2, 0, 6, 4, 8, 6, 8, 9, 0, 7, 6, 1, 1, 4, 4, 9, 4, 5, 8, 8, 6, 3, 8, 9, 9, 7, 9, 9, 8, 1, 2, 1, 3, 5, 7, 8, 8, 9, 4, 8, 4, 9, 4, 6, 0, 5, 4, 3, 2, 5, 0, 6, 0, 6, 1, 9, 6, 3, 2, 2, 3, 1, 2, 8, 6, 3, 6, 0, 5, 7, 5, 2, 2, 4, 6, 3, 1, 4, 2, 6, 6, 0, 1, 8, 3, 6, 1, 9, 0, 7, 4, 0, 4, 5, 7, 9, 3, 4, 3, 2, 2, 8, 7, 4, 6, 8, 8, 8, 4, 1, 6, 2, 2, 7, 8, 7, 9, 0, 5, 5, 3, 2, 0, 9, 3, 7, 2, 1, 8, 3, 0, 6, 4, 0, 2, 8, 0, 3, 1, 4, 6, 9, 7, 3, 1, 0, 9, 4, 0, 2, 1, 6, 6, 7, 9, 6, 1, 6, 6, 8, 7, 7, 7, 0, 7, 8, 6, 8, 7, 9, 5, 5, 2, 3, 8, 3, 5, 8, 4, 1, 4, 2, 1, 4, 1, 8, 6, 0, 4, 6, 7, 6, 3, 4, 1, 0, 7, 0, 6, 5, 8, 1, 8, 6, 0, 2, 4, 3, 6, 5, 2, 1, 1, 9, 9, 8, 2, 6, 6, 8, 3, 5, 3, 2, 8, 7, 2, 8, 9, 6, 1, 1, 9, 9, 0, 5, 1, 4, 6, 2, 6, 1, 8, 5, 0, 6, 1, 0, 7, 9, 5, 9, 3, 0, 9, 8, 6, 9, 8, 7, 7, 2, 6, 4, 3, 5, 1, 9, 4, 9, 9, 7, 7, 6, 0, 3, 4, 7, 9, 7, 7, 5, 7, 9, 2, 2, 9, 2, 1, 6, 0, 6, 4, 3, 1, 4, 0, 5, 1, 7, 7, 0, 2, 2, 8, 6, 1, 8, 0, 3, 0, 5, 7, 3, 3, 8, 8, 7, 1, 5, 5, 0, 7, 3, 5, 0, 0, 6, 1, 8, 7, 9, 9, 9, 4, 5, 8, 9, 0, 6, 1, 7, 7, 6, 4, 0, 6, 3, 3, 1, 7, 0, 3, 1, 8, 6, 8, 9, 4, 4, 9, 0, 0, 8, 7, 8, 0, 7, 6, 1, 7, 5, 2, 3, 0, 5, 5, 4, 9, 3, 1, 7, 5, 4, 1, 6, 2, 1, 4, 7, 2, 9, 3, 7, 7, 9, 7, 3, 1, 9, 5, 4, 1, 1, 4, 2, 1, 5, 0, 7, 1, 3, 8, 3, 1, 1, 2, 7, 8, 3, 7, 8, 3, 1, 2, 7, 1, 9, 4, 5, 5, 8, 1, 8, 1, 3, 4, 3, 2, 1, 3, 1, 9, 0, 8, 0, 1, 8, 7, 0, 6, 0, 9, 0, 9, 4, 5, 1, 9, 2, 2, 3, 0, 8, 6, 1, 8, 3, 1, 7, 9, 8, 0, 7, 7, 4, 7, 2, 1, 2, 6, 3, 9, 5, 6, 1, 3, 3, 1, 5, 7, 7, 5, 1, 6, 5, 8, 7, 6, 9, 1, 0, 8, 3, 0, 4, 0, 2, 3, 0, 8, 1, 6, 2, 1, 1, 2, 7, 7, 4, 4, 2, 2, 3, 4, 7, 0, 7, 3, 7, 3, 1, 7, 7, 9, 8, 9, 1, 3, 2, 3, 1, 4, 7, 6, 9, 3, 3, 1, 4, 9, 9, 2, 2, 3, 1, 4, 6, 5, 7, 6, 2, 0, 6, 5, 3, 5, 1, 4, 1, 0, 0, 6, 4, 6, 7, 7, 2, 0, 5, 6, 1, 9, 0, 2, 3, 7, 0, 3, 3, 8, 0, 9, 2, 4, 7, 2, 4, 1, 7, 7, 8, 4, 9, 7, 1, 5, 3, 7, 6, 4, 5, 0, 6, 4, 5, 9, 5, 0, 7, 5, 7, 1, 6, 9, 9, 8, 0, 0, 5, 0, 8, 4, 0, 2, 3, 5, 8, 7, 4, 5, 6, 8, 5, 2, 4, 3, 0, 9, 1, 2, 5, 8, 6, 4, 4, 1, 5, 3, 4, 4, 3, 2, 6, 1, 9, 8, 5, 1, 2, 9, 6, 1, 2, 1, 6, 8, 2, 9, 3, 8, 2, 9, 3, 0, 0, 6, 9, 7, 3, 8, 2, 3, 1, 2, 9, 3, 0, 8, 2, 5, 9, 5, 1, 9, 9, 4, 9, 1, 1, 7, 8, 7, 0, 9, 8, 7, 7, 5, 8, 1, 1, 1, 3, 9, 4, 8, 0, 7, 1, 8, 9, 2, 5, 9, 5, 1, 0, 3, 3, 5, 3, 4, 6, 4, 4, 0, 6, 1, 5, 0, 5, 2, 1, 7, 1, 8, 2, 1, 7, 9, 7, 1, 6, 5, 7, 3, 2, 9, 3, 1, 0, 8, 1, 6, 0, 2, 6, 8, 5, 3, 5, 9, 3, 1, 8, 9, 8, 4, 3, 2, 4, 5, 4, 9, 6, 1, 1, 0, 5, 5, 9, 3, 8, 5, 1, 1, 6, 0, 8, 1, 6, 9, 9, 5, 3, 5, 1, 2, 6, 3, 5, 5, 6, 7, 6, 1, 9, 1, 8, 2, 3, 9, 1, 1, 5, 1, 9, 7, 2, 3, 5, 7, 5, 3, 7, 1, 5, 6, 9, 3, 2, 7, 6, 5, 1, 1, 6, 1, 0, 7, 0, 9, 1, 6, 3, 7, 1, 2, 0, 5, 9, 1, 0, 0, 1, 9, 7, 7, 7, 7, 5, 3, 5, 5, 4, 3, 4, 3, 4, 9, 8, 6, 9, 9, 0, 0, 3, 9, 1, 7, 8, 2, 2, 8, 2, 5, 1, 9, 5, 3, 3, 2, 0, 1, 7, 8, 9, 5, 2, 7, 5, 6, 2, 0, 9, 1, 0, 9, 7, 8, 3, 4, 5, 9, 2, 7, 9, 3, 7, 4, 0, 1, 5, 3, 5, 2, 1, 4, 5, 3, 3, 3, 3, 0, 9, 4, 1, 9, 2, 2, 5, 9, 1, 7, 3, 8, 6, 5, 7, 5, 1, 2, 2, 9, 4, 2, 4, 4, 8, 9, 3, 6, 2, 8, 8, 7, 8, 3, 4, 1, 7, 2, 2, 6, 4, 5, 7, 6, 3, 9, 8, 2, 8, 9, 3, 7, 1, 7, 6, 9, 8, 7, 5, 0, 1, 2, 9, 2, 2, 6, 4, 7, 6, 4, 1, 7, 4, 7, 1, 3, 1, 7, 2, 4, 1, 3, 9, 1, 4, 5, 6, 8, 1, 1, 2, 0, 1, 0, 8, 8, 7, 8, 0, 2, 0, 3, 5, 0, 2, 5, 1, 4, 8, 0, 6, 6, 0, 8, 5, 0, 5, 7, 6, 7, 6, 8, 8, 6, 9, 1, 8, 8, 7, 1, 7, 8, 0, 9, 2, 5, 0, 7, 1, 4, 0, 3, 1, 6, 8, 7, 7, 9, 0, 5, 7, 1, 7, 4, 6, 3, 5, 7, 1, 0, 4, 5, 8, 1, 2, 7, 3, 3, 7, 1, 1, 1, 8, 3, 6, 5, 2, 5, 0, 4, 0, 9, 2, 1, 7, 5, 9, 5, 8, 7, 3, 7, 3, 1, 6, 1, 9, 8, 4, 9, 0, 0, 2, 8, 9, 4, 4, 0, 8, 4, 9, 8, 7, 6, 9, 1, 4, 6, 6, 7, 5, 5, 6, 3, 3, 1, 8, 1, 1, 7, 5, 0, 4, 4, 5, 5, 5, 7, 4, 3, 1, 1, 7, 5, 5, 7, 0, 9, 5, 5, 8, 2, 0, 7, 5, 0, 4, 1, 3, 8, 3, 3, 1, 9, 6, 2, 1, 8, 9, 8, 6, 2, 4, 4, 7, 0, 0, 5, 7, 3, 2, 3, 4, 6, 3, 0, 0, 1, 5, 7, 7, 6, 9, 9, 4, 4, 0, 9, 2, 6, 3, 6, 8, 1, 2, 3, 6, 3, 0, 0, 2, 7, 0, 9, 0, 7, 5, 7, 7, 7, 2, 1, 4, 7, 7, 6, 5, 4, 3, 5, 6, 4, 4, 1, 3, 7, 8, 7, 8, 3, 5, 4, 0, 3, 2, 7, 2, 4, 2, 2, 0, 3, 1, 0, 0, 0, 2, 8, 4, 6, 5, 8, 7, 2, 3, 1, 9, 6, 8, 4, 3, 0, 5, 7, 3, 4, 6, 9, 2, 0, 5, 0, 7, 8, 5, 0, 6, 3, 6, 0, 5, 3, 9, 2, 3, 9, 7, 6, 5, 7, 1, 2, 7, 0, 2, 1, 4, 4, 6, 9, 2, 9, 2, 4, 4, 8, 7, 3, 5, 9, 3, 9, 8, 2, 8, 4, 0, 0, 6, 7, 2, 4, 3, 4, 1, 4, 8, 9, 0, 3, 5, 6, 9, 0, 9, 0, 1, 1, 4, 9, 9, 1, 4, 5, 6, 5, 3, 2, 9, 4, 5, 8, 1, 8, 0, 9, 6, 2, 7, 8, 9, 2, 7, 4, 9, 2, 6, 1, 5, 2, 1, 3, 3, 1, 3, 5, 4, 5, 0, 3, 2, 1, 4, 7, 3, 6, 2, 7, 9, 9, 6, 7, 4, 3, 6, 9, 3, 5, 4, 5, 0, 6, 8, 5, 4, 8, 0, 2, 8, 9, 1, 0, 5, 7, 3, 9, 2, 2, 6, 2, 0, 9, 4, 4, 3, 8, 8, 5, 1, 1, 1, 3, 7, 0, 4, 2, 5, 0, 7, 9, 9, 4, 2, 3, 5, 0, 8, 1, 8, 3, 3, 8, 7, 2, 5, 6, 3, 4, 9, 2, 5, 2, 0, 1, 5, 2, 6, 8, 7, 4, 7, 4, 8, 4, 6, 8, 8, 2, 6, 3, 3, 6, 8, 5, 9, 2, 6, 8, 1, 7, 1, 0, 9, 6, 4, 5, 3, 7, 0, 9, 8, 0, 5, 9, 3, 4, 3, 1, 6, 4, 3, 1, 0, 3, 9, 7, 1, 9, 4, 9, 4, 6, 2, 7, 4, 8, 1, 8, 5, 6, 9, 5, 8, 9, 2, 7, 6, 6, 2, 7, 1, 1, 4, 9, 7, 9, 9, 6, 9, 0, 7, 7, 0, 4, 4, 7, 3, 4, 1, 4, 1, 0, 9, 0, 2, 8, 7, 9, 5, 0, 8, 3, 8, 6, 0, 2, 0, 9, 2, 1, 1, 9, 1, 0, 6, 7, 5, 2, 1, 4, 9, 6, 5, 9, 0, 5, 0, 1, 9, 2, 5, 4, 8, 9, 2, 7, 6, 7, 4, 1, 6, 1, 5, 5, 9, 1, 3, 0, 6, 7, 0, 0, 0, 7, 3, 8, 4, 1, 7, 3, 6, 0, 2, 1, 4, 8, 1, 3, 7, 4, 3, 8, 1, 8, 0, 5, 0, 9, 8, 1, 9, 5, 8, 7, 7, 7, 9, 8, 2, 4, 3, 1, 0, 1, 0, 3, 7, 8, 6, 2, 8, 6, 2, 0, 9, 1, 3, 4, 8, 1, 4, 0, 3, 2, 4, 6, 0, 9, 9, 1, 5, 6, 1, 7, 9, 2, 2, 9, 3, 0, 3, 0, 2, 9, 3, 8, 2, 2, 2, 6, 8, 0, 9, 0, 6, 9, 7, 0, 1, 9, 3, 0, 5, 7, 0, 8, 7, 6, 8, 2, 4, 1, 7, 0, 7, 5, 4, 0, 1, 8, 7, 1, 0, 2, 6, 5, 8, 8, 1, 7, 3, 8, 3, 4, 9, 7, 0, 9, 4, 9, 5, 2, 5, 6, 2, 0, 3, 9, 3, 0, 3, 4, 1, 2, 6, 5, 1, 5, 0, 4, 9, 5, 1, 3, 5, 4, 4, 7, 6, 9, 8, 4, 2, 3, 4, 5, 2, 2, 1, 7, 6, 9, 8, 7, 3, 1, 8, 5, 4, 6, 7, 5, 6, 1, 6, 0, 9, 6, 5, 3, 3, 1, 8, 3, 6, 6, 6, 2, 2, 7, 0, 0, 4, 1, 2, 6, 5, 8, 8, 6, 2, 2, 4, 7, 4, 6, 7, 8, 4, 6, 5, 6, 5, 2, 7, 2, 4, 6, 8, 9, 3, 4, 0, 8, 6, 0, 1, 9, 0, 7, 4, 7, 2, 4, 1, 6, 3, 6, 2, 4, 3, 0, 4, 4, 8, 9, 5, 1, 4, 4, 5, 9, 1, 0, 1, 0, 6, 9, 6, 3, 4, 4, 7, 3, 7, 0, 9, 2, 8, 9, 9, 5, 8, 8, 0, 3, 7, 3, 0, 7, 2, 6, 8, 5, 6, 9, 9, 4, 6, 4, 5, 2, 4, 3, 4, 1, 4, 8, 2, 6, 0, 2, 1, 4, 8, 1, 7, 3, 3, 5, 6, 6, 1, 1, 2, 8, 9, 4, 6, 9, 4, 4, 3, 1, 1, 2, 0, 6, 3, 4, 0, 1, 2, 7, 8, 7, 5, 4, 7, 4, 3, 2, 7, 9, 9, 6, 0, 8, 2, 3, 6, 0, 7, 1, 5, 3, 8, 6, 1, 4, 6, 7, 0, 1, 9, 3, 7, 8, 0, 8, 6, 6, 8, 3, 6, 3, 3, 9, 1, 9, 0, 2, 2, 0, 6, 4, 5, 0, 8, 9, 7, 4, 9, 0, 0, 1, 2, 3, 2, 0, 1, 0, 8, 4, 5, 1, 4, 1, 0, 7, 5, 0, 9, 7, 4, 9, 3, 6, 1, 4, 4, 8, 5, 4, 1, 9, 0, 0, 3, 4, 1, 5, 6, 0, 7, 6, 4, 4, 7, 7, 7, 6, 4, 4, 7, 9, 8, 7, 1, 6, 4, 0, 3, 2, 3, 9, 7, 0, 1, 3, 3, 6, 4, 4, 4, 1, 3, 4, 2, 9, 8, 0, 2, 7, 8, 3, 9, 4, 3, 0, 8, 1, 7, 2, 0, 6, 6, 9, 7, 5, 9, 7, 5, 5, 0, 2, 7, 8, 3, 4, 5, 3, 5, 9, 3, 5, 6, 6, 2, 3, 8, 3, 5, 4, 4, 8, 7, 5, 2, 1, 0, 0, 2, 7, 3, 6, 3, 4, 3, 3, 7, 5, 1, 1, 1, 8, 3, 7, 1, 2, 9, 8, 4, 8, 8, 8, 0, 7, 3, 9, 6, 7, 1, 6, 4, 4, 2, 8, 9, 4, 2, 1, 7, 9, 3, 1, 6, 2, 4, 5, 9, 8, 1, 4, 8, 5, 7, 0, 8, 5, 9, 7, 1, 3, 6, 3, 4, 5, 4, 3, 4, 1, 8, 4, 3, 0, 4, 8, 1, 7, 9, 7, 3, 3, 9, 9, 5, 6, 2, 6, 4, 3, 3, 1, 3, 0, 3, 3, 2, 1, 6, 3, 1, 7, 5, 0, 0, 9, 7, 6, 2, 9, 8, 7, 4, 8, 7, 8, 6, 3, 7, 8, 2, 5, 2, 4, 7, 1, 8, 7, 9, 7, 0, 9, 7, 3, 3, 0, 3, 5, 2, 6, 6, 2, 5, 9, 1, 9, 1, 8, 4, 8, 4, 5, 7, 0, 1, 8, 2, 1, 8, 1, 4, 5, 1, 5, 8, 8, 9, 9, 9, 5, 9, 9, 6, 6, 7, 1, 8, 0, 9, 4, 6, 9, 5, 1, 8, 9, 3, 7, 1, 6, 9, 4, 0, 2, 5, 1, 8, 8, 0, 1, 6, 1, 8, 8, 3, 4, 2, 0, 0, 3, 4, 8, 3, 4, 8, 8, 4, 5, 3, 4, 2, 8, 9, 5, 2, 3, 1, 8, 7, 3, 5, 5, 2, 1, 3, 2, 7, 0, 0, 2, 6, 4, 6, 5, 5, 3, 0, 2, 9, 9, 7, 5, 0, 0, 3, 0, 1, 3, 5, 7, 6, 3, 9, 7, 7, 0, 4, 2, 8, 6, 7, 4, 6, 9, 6, 6, 1, 3, 1, 5, 7, 2, 3, 2, 0, 5, 2, 8, 8, 3, 2, 0, 7, 9, 3, 6, 2, 3, 4, 5, 8, 6, 3, 2, 2, 9, 9, 7, 6, 3, 0, 9, 9, 1, 3, 4, 1, 0, 3, 2, 1, 8, 9, 3, 5, 5, 4, 1, 3, 0, 1, 0, 9, 5, 7, 7, 1, 6, 0, 5, 6, 0, 2, 8, 2, 1, 7, 2, 5, 4, 7, 1, 5, 7, 0, 6, 3, 2, 0, 6, 0, 6, 6, 8, 5, 7, 9, 8, 5, 7, 1, 2, 4, 6, 7, 4, 3, 1, 3, 6, 9, 8, 3, 6, 8, 7, 9, 9, 6, 6, 2, 7, 2, 2, 7, 9, 0, 4, 5, 1, 4, 8, 6, 5, 6, 0, 3, 5, 7, 8, 7, 4, 2, 0, 1, 4, 9, 5, 0, 0, 7, 0, 5, 1, 1, 9, 9, 3, 3, 4, 7, 7, 4, 8, 5, 6, 6, 2, 8, 2, 6, 4, 4, 0, 7, 2, 4, 2, 4, 5, 3, 8, 8, 4, 0, 7, 1, 7, 3, 9, 1, 4, 6, 9, 5, 2, 8, 0, 2, 3, 4, 2, 1, 4, 0, 6, 5, 9, 2, 3, 1, 1, 9, 6, 7, 8, 3, 0, 8, 6, 4, 6, 1, 0, 8, 3, 6, 5, 1, 3, 1, 5, 5, 5, 6, 2, 4, 2, 3, 4, 8, 3, 8, 7, 1, 0, 8, 8, 9, 4, 9, 0, 2, 1, 1, 6, 2, 1, 9, 0, 9, 9, 3, 8, 0, 2, 9, 8, 5, 3, 2, 3, 0, 3, 4, 3, 8, 9, 6, 1, 4, 1, 6, 7, 9, 2, 4, 4, 2, 7, 7, 9, 0, 6, 9, 6, 6, 7, 7, 1, 0, 8, 7, 9, 3, 3, 0, 0, 1, 7, 9, 4, 0, 1, 9, 0, 5, 5, 1, 7, 6, 4, 6, 7, 0, 0, 6, 0, 9, 2, 7, 6, 0, 2, 1, 9, 1, 0, 6, 3, 1, 8, 6, 3, 3, 7, 1, 8, 5, 8, 1, 9, 5, 1, 2, 0, 9, 3, 1, 4, 8, 0, 2, 8, 0, 6, 7, 5, 1, 6, 4, 3, 5, 3, 8, 9, 7, 9, 5, 1, 1, 1, 3, 0, 1, 9, 9, 1, 3, 8, 3, 2, 3, 0, 4, 6, 5, 8, 7, 1, 9, 4, 9, 4, 9, 7, 1, 0, 1, 2, 0, 6, 3, 3, 1, 3, 4, 5, 1, 8, 5, 8, 6, 9, 4, 4, 6, 6, 3, 5, 4, 5, 7, 5, 6, 8, 4, 8, 6, 4, 9, 1, 2, 2, 7, 2, 8, 5, 6, 3, 6, 2, 5, 7, 2, 1, 8, 2, 5, 5, 9, 1, 7, 0, 4, 4, 7, 7, 5, 6, 4, 8, 4, 3, 1, 2, 7, 4, 5, 1, 4, 5, 7, 4, 0, 6, 9, 8, 1, 7, 3, 6, 4, 2, 8, 2, 3, 3, 2, 0, 0, 5, 4, 7, 3, 0, 9, 0, 1, 1, 7, 5, 0, 6, 7, 7, 3, 5, 0, 0, 7, 3, 2, 6, 5, 6, 4, 4, 8, 3, 1, 8, 4, 1, 3, 4, 6, 6, 4, 3, 6, 3, 2, 7, 1, 0, 2, 2, 2, 3, 7, 7, 1, 9, 3, 8, 9, 8, 6, 3, 2, 2, 8, 9, 9, 3, 2, 5, 4, 8, 6, 9, 8, 3, 5, 0, 1, 0, 3, 9, 2, 2, 8, 2, 8, 6, 1, 9, 9, 9, 1, 1, 8, 3, 0, 5, 3, 2, 1, 2, 4, 5, 3, 7, 6, 8, 8, 9, 7, 5, 3, 0, 2, 5, 6, 6, 9, 4, 6, 2, 7, 0, 5, 2, 2, 6, 1, 0, 9, 2, 7, 3, 6, 4, 9, 5, 4, 5, 4, 4, 4, 6, 5, 9, 1, 5, 8, 0, 3, 3, 2, 4, 7, 0, 0, 0, 8, 5, 5, 1, 6, 1, 9, 5, 4, 1, 4, 4, 1, 6, 2, 6, 3, 5, 2, 2, 9, 2, 1, 1, 8, 2, 9, 8, 6, 8, 0, 7, 6, 1, 2, 8, 7, 8, 8, 8, 4, 3, 3, 4, 6, 2, 6, 4, 6, 4, 3, 3, 5, 8, 4, 3, 2, 6, 8, 2, 8, 1, 5, 2, 0, 0, 8, 9, 7, 9, 2, 0, 5, 6, 3, 4, 9, 6, 9, 1, 6, 5, 3, 9, 3, 8, 9, 4, 3, 4, 1, 5, 4, 8, 1, 3, 6, 4, 7, 1, 6, 7, 4, 7, 6, 3, 1, 7, 1, 2, 3, 0, 5, 0, 5, 9, 4, 3, 5, 9, 0, 8, 9, 6, 7, 1, 9, 7, 8, 9, 1, 4, 4, 8, 1, 0, 6, 3, 4, 1, 2, 2, 3, 5, 2, 7, 8, 9, 3, 8, 6, 4, 6, 6, 5, 7, 4, 6, 5, 0, 5, 9, 4, 0, 7, 7, 5, 1, 0, 3, 5, 3, 6, 5, 2, 9, 7, 0, 0, 9, 1, 1, 8, 7, 9, 7, 4, 6, 9, 6, 1, 1, 1, 0, 4, 4, 1, 1, 4, 2, 5, 4, 1, 2, 9, 2, 9, 9, 6, 1, 5, 1, 1, 9, 4, 5, 0, 0, 5, 5, 5, 5, 5, 1, 3, 0, 5, 9, 0, 5, 7, 7, 5, 8, 3, 7, 2, 3, 5, 0, 1, 1, 7, 4, 3, 8, 5, 4, 1, 4, 3, 5, 3, 2, 5, 3, 5, 4, 4, 3, 2, 0, 7, 7, 3, 5, 8, 3, 1, 9, 2, 5, 1, 7, 5, 8, 1, 6, 3, 6, 2, 6, 4, 9, 3, 5, 6, 4, 3, 4, 3, 2, 9, 3, 6, 1, 7, 4, 1, 6, 6, 1, 3, 6, 8, 7, 6, 0, 8, 9, 0, 6, 2, 4, 2, 9, 7, 9, 4, 5, 7, 7, 1, 0, 9, 6, 5, 2, 3, 2, 6, 5, 4, 2, 5, 9, 2, 4, 2, 1, 4, 5, 3, 1, 5, 9, 4, 7, 5, 4, 5, 6, 5, 6, 8, 2, 6, 2, 2, 7, 8, 8, 5, 3, 9, 8, 4, 4, 2, 7, 3, 3, 8, 0, 4, 5, 6, 6, 6, 6, 2, 0, 0, 1, 7, 4, 2, 9, 2, 3, 8, 3, 5, 8, 0, 7, 0, 3, 2, 4, 0, 3, 1, 1, 2, 3, 3, 5, 2, 1, 4, 5, 4, 6, 5, 9, 7, 6, 3, 2, 2, 1, 2, 7, 2, 0, 7, 7, 6, 0, 7, 3, 9, 0, 9, 0, 3, 0, 6, 2, 1, 9, 7, 1, 8, 0, 9, 1, 7, 2, 7, 8, 4, 4, 5, 2, 4, 4, 2, 8, 6, 8, 0, 9, 0, 8, 1, 4, 6, 1, 7, 0, 8, 0, 3, 5, 9, 1, 9, 8, 3, 0, 1, 2, 5, 6, 2, 6, 4, 9, 6, 1, 8, 8, 5, 2, 2, 0, 0, 8, 2, 5, 5, 3, 3, 9, 9, 2, 4, 2, 4, 8, 1, 8, 9, 2, 2, 9, 3, 2, 8, 6, 6, 0, 3, 2, 8, 5, 2, 1, 0, 3, 7, 5, 6, 7, 4, 8, 3, 1, 1, 8, 7, 3, 3, 0, 0, 8, 8, 2, 0, 1, 0, 1, 3, 1, 8, 7, 0, 2, 4, 5, 1, 1, 0, 1, 9, 0, 6, 9, 6, 7, 0, 6, 6, 3, 1, 6, 9, 4, 4, 9, 4, 2, 6, 1, 0, 7, 9, 4, 1, 7, 8, 7, 7, 8, 6, 4, 8, 1, 9, 8, 4, 3, 1, 7, 1, 6, 1, 3, 9, 2, 3, 0, 0, 4, 8, 3, 1, 6, 3, 2, 0, 6, 3, 0, 3, 1, 7, 9, 2, 3, 5, 8, 6, 8, 7, 2, 3, 5, 3, 9, 3, 1, 8, 4, 0, 3, 2, 1, 3, 2, 0, 6, 4, 6, 2, 6, 1, 5, 1, 1, 2, 0, 8, 8, 7, 1, 3, 6, 9, 3, 1, 7, 7, 5, 0, 7, 5, 4, 8, 9, 3, 2, 9, 9, 5, 0, 3, 4, 4, 4, 4, 8, 6, 9, 3, 6, 1, 8, 5, 3, 2, 6, 6, 3, 2, 8, 2, 7, 9, 0, 4, 2, 7, 6, 1, 5, 4, 9, 4, 9, 8, 6, 4, 3, 0, 8, 0, 6, 3, 6, 2, 0, 3, 1, 7, 0, 6, 1, 9, 0, 3, 9, 1, 3, 1, 1, 7, 8, 7, 8, 0, 4, 9, 7, 8, 0, 9, 1, 0, 3, 4, 2, 7, 8, 1, 2, 5, 8, 2, 1, 7, 5, 8, 3, 0, 3, 1, 9, 4, 5, 2, 8, 4, 8, 9, 7, 5, 5, 0, 7, 8, 7, 1, 0, 9, 6, 0, 2, 8, 9, 3, 0, 9, 0, 7, 6, 6, 9, 2, 0, 8, 1, 7, 5, 5, 3, 6, 5, 0, 7, 6, 7, 5, 6, 6, 0, 6, 3, 6, 3, 9, 1, 6, 4, 9, 5, 9, 4, 4, 7, 0, 7, 6, 3, 1, 3, 7, 4, 8, 6, 6, 0, 3, 2, 6, 0, 5, 1, 7, 4, 4, 7, 5, 7, 1, 7, 1, 8, 6, 8, 4, 8, 4, 6, 1, 6, 0, 2, 4, 4, 0, 6, 2, 2, 8, 2, 3, 2, 0, 2, 3, 5, 7, 3, 1, 3, 3, 1, 4, 3, 0, 8, 2, 9, 8, 2, 5, 1, 9, 7, 8, 2, 7, 1, 2, 8, 7, 7, 8, 8, 4, 2, 9, 4, 8, 5, 0, 3, 2, 7, 6, 1, 0, 9, 5, 5, 7, 1, 2, 4, 6, 1, 0, 3, 2, 0, 7, 0, 7, 6, 3, 1, 2, 4, 7, 4, 4, 7, 0, 8, 5, 1, 2, 4, 6, 9, 0, 1, 2, 9, 0, 1, 4, 7, 3, 7, 9, 3, 4, 1, 5, 2, 6, 1, 6, 7, 7, 4, 4, 3, 8, 9, 0, 0, 4, 7, 0, 4, 4, 4, 4, 6, 3, 0, 8, 3, 2, 8, 3, 6, 4, 2, 4, 4, 8, 0, 1, 0, 2, 6, 0, 1, 7, 4, 4, 2, 0, 2, 2, 3, 8, 3, 3, 8, 2, 8, 3, 1, 5, 4, 1, 6, 1, 7, 5, 3, 1, 2, 1, 2, 9, 6, 1, 6, 2, 8, 4, 0, 8, 9, 5, 4, 5, 9, 8, 5, 0, 3, 7, 1, 7, 7, 1, 7, 2, 9, 6, 6, 8, 9, 2, 7, 7, 7, 4, 8, 9, 7, 7, 4, 0, 9, 8, 0, 5, 4, 9, 2, 0, 2, 1, 0, 6, 5, 4, 8, 6, 9, 0, 3, 4, 3, 2, 0, 0, 7, 0, 9, 6, 4, 0, 5, 6, 8, 4, 9, 2, 7, 3, 2, 7, 0, 3, 9, 6, 9, 7, 6, 3, 9, 8, 0, 4, 5, 1, 8, 7, 8, 6, 1, 3, 5, 4, 4, 7, 6, 4, 9, 9, 3, 3, 2, 8, 7, 2, 9, 5, 4, 7, 3, 8, 3, 1, 3, 6, 0, 6, 3, 5, 7, 7, 2, 8, 6, 9, 1, 0, 2, 1, 0, 1, 7, 6, 4, 4, 5, 2, 7, 1, 1, 3, 4, 7, 0, 9, 9, 1, 4, 6, 4, 4, 9, 9, 3, 2, 9, 6, 4, 3, 6, 9, 7, 7, 6, 3, 0, 8, 0, 3, 7, 9, 8, 3, 1, 5, 2, 9, 6, 7, 8, 9, 3, 4, 6, 4, 8, 4, 5, 5, 4, 0, 6, 0, 6, 0, 8, 5, 4, 0, 9, 2, 5, 0, 8, 3, 0, 2, 3, 1, 4, 0, 1, 5, 6, 9, 4, 6, 7, 6, 6, 5, 3, 4, 4, 1, 2, 1, 0, 9, 1, 4, 7, 6, 0, 2, 9, 9, 8, 2, 9, 5, 2, 3, 1, 5, 2, 2, 7, 1, 3, 7, 3, 0, 5, 8, 2, 4, 1, 3, 2, 5, 6, 1, 5, 0, 5, 2, 3, 5, 2, 5, 0, 3, 5, 8, 4, 5, 2, 9, 0, 9, 5, 3, 4, 1, 0, 5, 8, 2, 0, 1, 5, 5, 3, 1, 5, 6, 1, 0, 3, 6, 7, 2, 4, 1, 7, 1, 6, 5, 9, 9, 1, 9, 1, 2, 0, 5, 0, 5, 9, 9, 1, 1, 7, 1, 3, 3, 0, 1, 7, 8, 2, 5, 5, 8, 9, 5, 8, 9, 6, 9, 3, 4, 1, 8, 9, 9, 9, 2, 8, 5, 9, 7, 0, 9, 9, 3, 8, 8, 2, 6, 6, 5, 8, 7, 2, 8, 2, 1, 3, 9, 6, 2, 0, 3, 9, 2, 5, 7, 4, 8, 5, 1, 7, 8, 1, 7, 6, 7, 9, 3, 2, 1, 9, 2, 3, 6, 0, 2, 8, 5, 1, 7, 2, 1, 0, 6, 0, 0, 7, 2, 3, 5, 7, 0, 1, 1, 2, 9, 5, 8, 9, 4, 4, 3, 6, 0, 1, 7, 6, 2, 6, 0, 4, 4, 2, 3, 7, 6, 5, 3, 7, 1, 1, 3, 1, 3, 1, 0, 0, 4, 9, 2, 1, 2, 7, 2, 9, 2, 1, 3, 2, 6, 6, 6, 6, 9, 9, 1, 2, 3, 4, 7, 5, 0, 4, 3, 7, 1, 4, 0, 3, 8, 1, 7, 3, 8, 6, 9, 9, 8, 9, 7, 8, 8, 6, 9, 0, 6, 3, 4, 0, 8, 4, 6, 8, 3, 1, 8, 5, 1, 4, 7, 2, 5, 3, 5, 8, 4, 6, 7, 3, 4, 2, 4, 1, 6, 5, 9, 4, 9, 5, 8, 9, 4, 8, 9, 4, 2, 9, 3, 3, 9, 6, 9, 0, 9, 0, 1, 5, 3, 6, 6, 7, 6, 2, 8, 4, 0, 7, 9, 2, 0, 9, 3, 1, 2, 0, 2, 8, 2, 7, 5, 3, 3, 0, 2, 9, 7, 4, 6, 4, 7, 1, 5, 0, 8, 6, 9, 6, 8, 4, 3, 8, 2, 3, 3, 7, 2, 2, 1, 9, 3, 2, 7, 6, 1, 1, 7, 1, 4, 5, 7, 7, 4, 4, 3, 3, 9, 0, 2, 4, 6, 4, 1, 9, 6, 8, 9, 0, 2, 0, 5, 0, 2, 2, 3, 4, 8, 2, 0, 5, 6, 2, 0, 4, 5, 5, 7, 5, 4, 5, 5, 7, 9, 9, 1, 6, 5, 6, 4, 4, 0, 1, 6, 7, 5, 2, 6, 0, 6, 8, 8, 8, 4, 6, 1, 6, 7, 3, 8, 3, 3, 2, 7, 6, 6, 2, 8, 8, 2, 1, 1, 4, 5, 6, 1, 3, 1, 0, 9, 1, 1, 1, 0, 7, 2, 2, 4, 9, 5, 8, 4, 6, 3, 3, 8, 3, 8, 5, 2, 3, 6, 1, 6, 7, 5, 7, 2, 9, 5, 5, 2, 5, 9, 0, 9, 9, 8, 0, 8, 4, 6, 8, 2, 1, 8, 8, 7, 7, 7, 0, 8, 2, 1, 1, 1, 0, 9, 5, 9, 0, 5, 3, 3, 9, 9, 7, 7, 2, 7, 7, 6, 6, 9, 7, 3, 4, 9, 3, 8, 1, 8, 0, 8, 4, 8, 8, 6, 6, 1, 8, 6, 6, 8, 9, 7, 4, 8, 6, 4, 6, 1, 7, 9, 1, 6, 0, 6, 6, 4, 7, 7, 2, 9, 4, 1, 5, 1, 3, 8, 0, 9, 1, 0, 2, 8, 8, 1, 2, 3, 7, 7, 1, 4, 1, 1, 8, 3, 5, 7, 8, 5, 2, 4, 5, 8, 2, 1, 1, 5, 1, 0, 6, 6, 3, 3, 5, 2, 7, 7, 1, 7, 6, 0, 3, 1, 9, 8, 0, 2, 3, 8, 1, 3, 9, 2, 1, 3]\n"
     ]
    }
   ],
   "source": [
    "print(plabels)"
   ]
  },
  {
   "cell_type": "code",
   "execution_count": 57,
   "metadata": {},
   "outputs": [
    {
     "name": "stdout",
     "output_type": "stream",
     "text": [
      "(28000,)\n"
     ]
    }
   ],
   "source": [
    "print(np.shape(plabels))"
   ]
  },
  {
   "cell_type": "code",
   "execution_count": null,
   "metadata": {},
   "outputs": [],
   "source": [
    "diff = plabels - testlabels\n",
    "aver_acc = np.sum(diff == 0) / len(diff)\n",
    "\n",
    "# write result into result.csv\n",
    "plabels = np.reshape(plabels, [len(plabels),1])\n",
    "ImgId = np.reshape(range(1,len(plabels)+1), [len(plabels),1])\n",
    "result = np.concatenate((ImgId, plabels), axis = 1)\n",
    "with open(\"result.csv\",\"w\",newline='') as csvfile: \n",
    "    writer = csv.writer(csvfile)\n",
    "    writer.writerow([\"ImageId\",\"Label\"])\n",
    "    writer.writerows(result)"
   ]
  }
 ],
 "metadata": {
  "kernelspec": {
   "display_name": "Python 3",
   "language": "python",
   "name": "python3"
  },
  "language_info": {
   "codemirror_mode": {
    "name": "ipython",
    "version": 3
   },
   "file_extension": ".py",
   "mimetype": "text/x-python",
   "name": "python",
   "nbconvert_exporter": "python",
   "pygments_lexer": "ipython3",
   "version": "3.6.5"
  }
 },
 "nbformat": 4,
 "nbformat_minor": 2
}
