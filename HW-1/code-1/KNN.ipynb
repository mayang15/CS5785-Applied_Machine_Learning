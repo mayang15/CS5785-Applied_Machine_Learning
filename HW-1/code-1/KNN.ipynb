{
 "cells": [
  {
   "cell_type": "code",
   "execution_count": null,
   "metadata": {},
   "outputs": [],
   "source": [
    "from numpy import *\n",
    "import operator\n",
    "\n",
    "def kNN(testset,trainset,trainlabels,k):\n",
    "    rows = trainset.shape[0]\n",
    "    A = tile(testset,(rows,1)) - trainset\n",
    "    sqA=A**2\n",
    "    dist_L2=sqA.sum(axis=1)**0.5\n",
    "    index=dist_L2.argsort()\n",
    "    classCount={}\n",
    "    for i in range(k):\n",
    "        voteIlabel=labels[index[i]]\n",
    "        classCount[voteIlabel]=classCount.get(voteIlabel,0)+1\n",
    "    sortedClassCount=sorted(classCount.items(),key=operator.itemgetter(1),reverse=True)\n",
    "    return sortedClassCount[0][0]\n",
    "\n",
    "\n",
    "\n"
   ]
  }
 ],
 "metadata": {
  "kernelspec": {
   "display_name": "Python 3",
   "language": "python",
   "name": "python3"
  },
  "language_info": {
   "codemirror_mode": {
    "name": "ipython",
    "version": 3
   },
   "file_extension": ".py",
   "mimetype": "text/x-python",
   "name": "python",
   "nbconvert_exporter": "python",
   "pygments_lexer": "ipython3",
   "version": "3.6.5"
  }
 },
 "nbformat": 4,
 "nbformat_minor": 2
}
