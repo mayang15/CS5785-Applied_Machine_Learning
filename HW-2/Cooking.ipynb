{
 "cells": [
  {
   "cell_type": "code",
   "execution_count": 116,
   "metadata": {},
   "outputs": [
    {
     "name": "stdout",
     "output_type": "stream",
     "text": [
      "num_dishes:39774\n",
      "num_unique_cuisine:20\n",
      "428275\n",
      "num_unique_ingredients:6714\n",
      "test_num_dishes:9944\n"
     ]
    }
   ],
   "source": [
    "import json\n",
    "import numpy as np\n",
    "import itertools\n",
    "\n",
    "\n",
    "# trainset\n",
    "with open(\"train.json\", encoding='utf-8') as f:\n",
    "    train_data = json.load(f)\n",
    "print(\"num_dishes:\" + str(len(train_data)))\n",
    "cusines = []\n",
    "for d in data:\n",
    "    cusines.append(d['cuisine'])\n",
    "# print(np.unique(cusines))\n",
    "print(\"num_unique_cuisine:\" + str(len(np.unique(cusines))))\n",
    "ingredients = []\n",
    "for d in train_data:\n",
    "    ingredients.append(d['ingredients'])\n",
    "ingredients = list(itertools.chain.from_iterable(ingredients))\n",
    "unique_ingredients = np.unique(ingredients)\n",
    "print(len(ingredients))\n",
    "print(\"num_unique_ingredients:\" + str(len(unique_ingredients)))\n",
    "\n",
    "# testset\n",
    "test_ids = []\n",
    "with open(\"test.json\", encoding='utf-8') as f:\n",
    "    test_data = json.load(f)\n",
    "for d in test_data:\n",
    "    test_ids.append(d['id'])\n",
    "print(\"test_num_dishes:\" + str(len(test_data)))"
   ]
  },
  {
   "cell_type": "code",
   "execution_count": 78,
   "metadata": {},
   "outputs": [],
   "source": [
    "## Q2(c)\n",
    "# make ingredients dict\n",
    "ingred_dict = {}\n",
    "ind = 0\n",
    "for i in unique_ingredients:\n",
    "    ingred_dict[i] = ind\n",
    "    ind = ind + 1\n",
    "# Feature matrix\n",
    "F = np.zeros((len(data), len(unique_ingredients)), dtype=int)\n",
    "for row in range(len(data)):\n",
    "    for ing in data[row][\"ingredients\"]:\n",
    "        F[row, ingred_dict[ing]] = 1\n",
    "F_test = np.zeros((len(test_data), len(unique_ingredients)), dtype=int)\n",
    "for row in range(len(test_data)):\n",
    "    for ing in test_data[row][\"ingredients\"]:\n",
    "        if ing in ingred_dict:\n",
    "            F_test[row, ingred_dict[ing]] = 1"
   ]
  },
  {
   "cell_type": "code",
   "execution_count": 106,
   "metadata": {},
   "outputs": [
    {
     "name": "stdout",
     "output_type": "stream",
     "text": [
      "{'fit_time': array([6.76077056, 6.20061898, 5.35556746]), 'score_time': array([2.20452738, 2.18972325, 2.06335425]), 'test_score': array([0.68302797, 0.68225356, 0.68548144]), 'train_score': array([0.71400551, 0.71484066, 0.71412412])}\n",
      "mean train score:0.7143234289165253\n",
      "mean test score:0.6835876576455521\n"
     ]
    }
   ],
   "source": [
    "## Q2(d)\n",
    "from sklearn.naive_bayes import GaussianNB, BernoulliNB\n",
    "from sklearn.model_selection import cross_validate\n",
    "X = F[:,:]\n",
    "Y = cusines[:]\n",
    "model = BernoulliNB()\n",
    "cv_result = cross_validate(model,X,Y,cv=3,return_train_score=True)\n",
    "print(cv_result)\n",
    "print(\"mean train score:\" + str(np.mean(cv_result['train_score'])))\n",
    "print(\"mean test score:\" + str(np.mean(cv_result['test_score'])))"
   ]
  },
  {
   "cell_type": "code",
   "execution_count": 101,
   "metadata": {},
   "outputs": [
    {
     "name": "stdout",
     "output_type": "stream",
     "text": [
      "39774\n"
     ]
    }
   ],
   "source": [
    "print(F.shape[0])"
   ]
  },
  {
   "cell_type": "code",
   "execution_count": 112,
   "metadata": {},
   "outputs": [
    {
     "name": "stdout",
     "output_type": "stream",
     "text": [
      "{'fit_time': array([7.48079348, 8.34969711, 8.38073444]), 'score_time': array([41.60915065, 41.4692111 , 41.96931434]), 'test_score': array([0.37925055, 0.38185384, 0.377377  ]), 'train_score': array([0.56097469, 0.54697341, 0.55256014])}\n",
      "mean train score:0.5535027465935979\n",
      "mean test score:0.3794937938208349\n"
     ]
    }
   ],
   "source": [
    "X = F[:,:]\n",
    "Y = cusines[:]\n",
    "model = GaussianNB()\n",
    "cv_result = cross_validate(model,X,Y,cv=3,return_train_score=True)\n",
    "print(cv_result)\n",
    "print(\"mean train score:\" + str(np.mean(cv_result['train_score'])))\n",
    "print(\"mean test score:\" + str(np.mean(cv_result['test_score'])))"
   ]
  },
  {
   "cell_type": "code",
   "execution_count": 111,
   "metadata": {},
   "outputs": [
    {
     "name": "stdout",
     "output_type": "stream",
     "text": [
      "{'fit_time': array([ 9.53297019, 10.35571456, 10.7504704 ]), 'score_time': array([0.82211399, 0.85048652, 0.81384802]), 'test_score': array([0.774787  , 0.77366317, 0.77882584]), 'train_score': array([0.87880502, 0.87784273, 0.87719629])}\n",
      "mean train score:0.877948014910657\n",
      "mean test score:0.7757586704089684\n"
     ]
    }
   ],
   "source": [
    "from sklearn.linear_model import LogisticRegression\n",
    "X = F[:,:]\n",
    "Y = cusines[:]\n",
    "model = LogisticRegression()\n",
    "cv_result = cross_validate(model,X,Y,cv=3,return_train_score=True)\n",
    "print(cv_result)\n",
    "print(\"mean train score:\" + str(np.mean(cv_result['train_score'])))\n",
    "print(\"mean test score:\" + str(np.mean(cv_result['test_score'])))"
   ]
  },
  {
   "cell_type": "code",
   "execution_count": 115,
   "metadata": {},
   "outputs": [
    {
     "name": "stdout",
     "output_type": "stream",
     "text": [
      "['british' 'southern_us' 'italian' ... 'italian' 'southern_us' 'mexican']\n"
     ]
    }
   ],
   "source": [
    "## Q2(g)\n",
    "X = F[:,:]\n",
    "Y = cusines[:]\n",
    "result = LogisticRegression().fit(X,Y).predict(F_test)\n",
    "print(result)"
   ]
  },
  {
   "cell_type": "code",
   "execution_count": 120,
   "metadata": {},
   "outputs": [],
   "source": [
    "import csv\n",
    "plabels = np.reshape(result, [len(result),1])\n",
    "ids = np.reshape(test_ids, [len(test_ids),1])\n",
    "output = np.concatenate((ids, plabels), axis = 1)\n",
    "with open(\"result.csv\",\"w\",newline='') as csvfile: \n",
    "    writer = csv.writer(csvfile)\n",
    "    writer.writerow([\"id\",\"cuisine\"])\n",
    "    writer.writerows(output)"
   ]
  },
  {
   "cell_type": "code",
   "execution_count": null,
   "metadata": {},
   "outputs": [],
   "source": []
  }
 ],
 "metadata": {
  "kernelspec": {
   "display_name": "Python 3",
   "language": "python",
   "name": "python3"
  },
  "language_info": {
   "codemirror_mode": {
    "name": "ipython",
    "version": 3
   },
   "file_extension": ".py",
   "mimetype": "text/x-python",
   "name": "python",
   "nbconvert_exporter": "python",
   "pygments_lexer": "ipython3",
   "version": "3.6.5"
  }
 },
 "nbformat": 4,
 "nbformat_minor": 2
}
