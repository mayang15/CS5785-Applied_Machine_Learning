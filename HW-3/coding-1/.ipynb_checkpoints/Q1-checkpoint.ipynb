{
 "cells": [
  {
   "cell_type": "code",
   "execution_count": 1,
   "metadata": {},
   "outputs": [],
   "source": [
    "import numpy as np"
   ]
  },
  {
   "cell_type": "code",
   "execution_count": 25,
   "metadata": {},
   "outputs": [
    {
     "name": "stdout",
     "output_type": "stream",
     "text": [
      "dataset: yelp_labelled.txt\n",
      "total sentences: 1000\n",
      "positive sentences: 500\n",
      "negative sentences: 500\n"
     ]
    }
   ],
   "source": [
    "## (a)\n",
    "filename = \"yelp_labelled.txt\"\n",
    "sentences = []\n",
    "labels = []\n",
    "for line in open(\"sentiment labelled sentences/\" + filename):\n",
    "    sentences.append(line.strip('\\n').split('\\t')[0])\n",
    "    labels.append(line.strip('\\n').split('\\t')[1])\n",
    "print(\"dataset: \"+str(filename))\n",
    "print(\"total sentences: \" + str(len(labels)))\n",
    "print(\"positive sentences: \"+str(labels.count('1')))\n",
    "print(\"negative sentences: \"+str(labels.count('0')))"
   ]
  },
  {
   "cell_type": "code",
   "execution_count": 56,
   "metadata": {},
   "outputs": [],
   "source": [
    "## (b) preprocessing\n",
    "from nltk.stem import PorterStemmer\n",
    "from nltk.corpus import stopwords \n",
    "from nltk.tokenize import word_tokenize\n",
    "import string\n",
    "\n",
    "# lowercase all of the words\n",
    "trainset_0 = []\n",
    "for sentence in sentences:\n",
    "    trainset_0.append(sentence.lower())\n",
    "\n",
    "# strip punctuation\n",
    "trainset_1 = []\n",
    "for sentence in trainset_0:\n",
    "    trainset_1.append(sentence.translate(str.maketrans('', '', string.punctuation)))\n",
    "\n",
    "# lemmatization of all the words\n",
    "ps = PorterStemmer()\n",
    "trainset_2 = []\n",
    "for sentence in trainset_1:\n",
    "    words = sentence.split(' ')\n",
    "    sentence_out = \"\"\n",
    "    for word in words:\n",
    "        sentence_out = sentence_out + ps.stem(word) + ' '\n",
    "    trainset_2.append(sentence_out)\n",
    "\n",
    "# remove stop words\n",
    "trainset_3 = []\n",
    "#stop_words = set(stopwords.words('english'))\n",
    "stop_words = set(['the','and','or','a','an','for','that','is','are','were','was'])\n",
    "for sentence in trainset_2:\n",
    "    word_tokens = word_tokenize(sentence) \n",
    "    filtered_sentence = [w for w in word_tokens if not w in stop_words]   "
   ]
  },
  {
   "cell_type": "code",
   "execution_count": null,
   "metadata": {},
   "outputs": [],
   "source": [
    "## (c) split training and testing set\n",
    "\n",
    "\n"
   ]
  },
  {
   "cell_type": "code",
   "execution_count": null,
   "metadata": {},
   "outputs": [],
   "source": []
  },
  {
   "cell_type": "code",
   "execution_count": null,
   "metadata": {},
   "outputs": [],
   "source": []
  }
 ],
 "metadata": {
  "kernelspec": {
   "display_name": "Python 3",
   "language": "python",
   "name": "python3"
  },
  "language_info": {
   "codemirror_mode": {
    "name": "ipython",
    "version": 3
   },
   "file_extension": ".py",
   "mimetype": "text/x-python",
   "name": "python",
   "nbconvert_exporter": "python",
   "pygments_lexer": "ipython3",
   "version": "3.6.5"
  }
 },
 "nbformat": 4,
 "nbformat_minor": 2
}
